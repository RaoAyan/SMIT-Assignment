{
 "cells": [
  {
   "cell_type": "code",
   "execution_count": 7,
   "id": "2e6e4318-50fd-4530-9760-74e481116b23",
   "metadata": {},
   "outputs": [],
   "source": [
    "# 1. Find the maximum of three numbers\n",
    "def find_max(a, b, c):\n",
    "    return max(a, b, c)"
   ]
  },
  {
   "cell_type": "code",
   "execution_count": 8,
   "id": "4dcf2c1f-15e4-49d2-a9a5-a3f3ee34fe59",
   "metadata": {},
   "outputs": [
    {
     "name": "stdout",
     "output_type": "stream",
     "text": [
      "7\n"
     ]
    }
   ],
   "source": [
    "print(find_max(3, 7, 5))"
   ]
  },
  {
   "cell_type": "code",
   "execution_count": 9,
   "id": "f8b3e9b2-829e-43f1-89f4-6057d3c34699",
   "metadata": {},
   "outputs": [],
   "source": [
    "# 2. Sum all numbers in a list\n",
    "def sum_list(numbers):\n",
    "    total = 0\n",
    "    for num in numbers:\n",
    "        total += num\n",
    "    return total"
   ]
  },
  {
   "cell_type": "code",
   "execution_count": 10,
   "id": "d08b19b0-c1b9-40a1-80a3-c25600b25fc0",
   "metadata": {},
   "outputs": [
    {
     "name": "stdout",
     "output_type": "stream",
     "text": [
      "20\n"
     ]
    }
   ],
   "source": [
    "print(sum_list([8, 2, 3, 0, 7]))"
   ]
  },
  {
   "cell_type": "code",
   "execution_count": 11,
   "id": "9afed998-a567-4678-9416-e7aa37d3c0b9",
   "metadata": {},
   "outputs": [],
   "source": [
    "# 3. Multiply all numbers in a list\n",
    "def multiply_list(numbers):\n",
    "    result = 1\n",
    "    for num in numbers:\n",
    "        result *= num\n",
    "    return result"
   ]
  },
  {
   "cell_type": "code",
   "execution_count": 12,
   "id": "9a8e7136-8a26-4fbb-a368-e7b35fa66af7",
   "metadata": {},
   "outputs": [
    {
     "name": "stdout",
     "output_type": "stream",
     "text": [
      "-336\n"
     ]
    }
   ],
   "source": [
    "print(multiply_list([8, 2, 3, -1, 7]))"
   ]
  },
  {
   "cell_type": "code",
   "execution_count": 13,
   "id": "d4c174ea-57a7-4b83-9d7e-da6030327e2d",
   "metadata": {},
   "outputs": [],
   "source": [
    "# 4. Reverse a string\n",
    "def reverse_string(s):\n",
    "    return s[::-1]"
   ]
  },
  {
   "cell_type": "code",
   "execution_count": 14,
   "id": "3db09969-0920-4731-ab0e-b5a3c970706f",
   "metadata": {},
   "outputs": [
    {
     "name": "stdout",
     "output_type": "stream",
     "text": [
      "dcba4321\n"
     ]
    }
   ],
   "source": [
    "print(reverse_string(\"1234abcd\"))"
   ]
  },
  {
   "cell_type": "code",
   "execution_count": 15,
   "id": "fa3601dc-1a33-4e92-bd51-f060b1f45a37",
   "metadata": {},
   "outputs": [],
   "source": [
    "# 5. Calculate the factorial of a number\n",
    "def factorial(n):\n",
    "    if n == 0 or n == 1:\n",
    "        return 1\n",
    "    result = 1\n",
    "    for i in range(2, n + 1):\n",
    "        result *= i\n",
    "    return result"
   ]
  },
  {
   "cell_type": "code",
   "execution_count": 16,
   "id": "d758ab44-60ea-4978-8f90-9d247fcdd3e1",
   "metadata": {},
   "outputs": [
    {
     "name": "stdout",
     "output_type": "stream",
     "text": [
      "120\n"
     ]
    }
   ],
   "source": [
    "print(factorial(5))"
   ]
  },
  {
   "cell_type": "code",
   "execution_count": 17,
   "id": "a4ddc15c-09d8-4bf5-8621-076752c14b45",
   "metadata": {},
   "outputs": [],
   "source": [
    "# 6. Check if a number is within a range\n",
    "def is_in_range(number, start, end):\n",
    "    return start <= number <= end"
   ]
  },
  {
   "cell_type": "code",
   "execution_count": 18,
   "id": "a2b08ae1-ad70-437a-9a64-004919297fd0",
   "metadata": {},
   "outputs": [
    {
     "name": "stdout",
     "output_type": "stream",
     "text": [
      "True\n"
     ]
    }
   ],
   "source": [
    "print(is_in_range(5, 1, 10))"
   ]
  },
  {
   "cell_type": "code",
   "execution_count": 19,
   "id": "942c4d0c-fa05-4d94-81ba-35cfa48e1fb3",
   "metadata": {},
   "outputs": [],
   "source": [
    "# 7. Count upper and lower case letters\n",
    "def count_case(s):\n",
    "    upper = 0\n",
    "    lower = 0\n",
    "    for char in s:\n",
    "        if char.isupper():\n",
    "            upper += 1\n",
    "        elif char.islower():\n",
    "            lower += 1\n",
    "    print(\"No. of Upper case characters:\", upper)\n",
    "    print(\"No. of Lower case characters:\", lower)"
   ]
  },
  {
   "cell_type": "code",
   "execution_count": 20,
   "id": "bcdc5597-a140-429c-8cfd-455cda6e1aad",
   "metadata": {},
   "outputs": [
    {
     "name": "stdout",
     "output_type": "stream",
     "text": [
      "No. of Upper case characters: 3\n",
      "No. of Lower case characters: 12\n"
     ]
    }
   ],
   "source": [
    "count_case('The quick Brow Fox')"
   ]
  },
  {
   "cell_type": "code",
   "execution_count": 21,
   "id": "4e05a661-b073-4779-9ede-c4f0d5865c6b",
   "metadata": {},
   "outputs": [],
   "source": [
    "# 8. Return a list with distinct elements\n",
    "def unique_elements(lst):\n",
    "    return list(set(lst))"
   ]
  },
  {
   "cell_type": "code",
   "execution_count": 22,
   "id": "f84b7584-19ec-4115-ac60-39d0dd0d8663",
   "metadata": {},
   "outputs": [
    {
     "name": "stdout",
     "output_type": "stream",
     "text": [
      "[1, 2, 3, 4, 5]\n"
     ]
    }
   ],
   "source": [
    "print(unique_elements([1,2,3,3,3,4,5]))"
   ]
  },
  {
   "cell_type": "code",
   "execution_count": 23,
   "id": "f1085928-c6d4-4545-8f7e-3dafeff9ae1d",
   "metadata": {},
   "outputs": [],
   "source": [
    "# 9. Check if a number is prime\n",
    "def is_prime(n):\n",
    "    if n <= 1:\n",
    "        return False\n",
    "    for i in range(2, int(n**0.5) + 1):\n",
    "        if n % i == 0:\n",
    "            return False\n",
    "    return True"
   ]
  },
  {
   "cell_type": "code",
   "execution_count": 24,
   "id": "966305db-69b7-4063-b69f-f00590e37e9b",
   "metadata": {},
   "outputs": [
    {
     "name": "stdout",
     "output_type": "stream",
     "text": [
      "True\n"
     ]
    }
   ],
   "source": [
    "print(is_prime(7))"
   ]
  },
  {
   "cell_type": "code",
   "execution_count": 25,
   "id": "d308234c-18e3-47de-9e01-c48ce2cab463",
   "metadata": {},
   "outputs": [],
   "source": [
    "# 10. Print even numbers from a list\n",
    "def even_numbers(lst):\n",
    "    return [num for num in lst if num % 2 == 0]"
   ]
  },
  {
   "cell_type": "code",
   "execution_count": 26,
   "id": "b5e115e6-c69a-4531-8348-8fb02d668ae8",
   "metadata": {},
   "outputs": [
    {
     "name": "stdout",
     "output_type": "stream",
     "text": [
      "[2, 4, 6, 8]\n"
     ]
    }
   ],
   "source": [
    "print(even_numbers([1,2,3,4,5,6,7,8,9]))"
   ]
  },
  {
   "cell_type": "code",
   "execution_count": 27,
   "id": "9046bcc7-625d-4678-ab94-063e37a9900a",
   "metadata": {},
   "outputs": [],
   "source": [
    "# 11. Check if a number is a perfect number\n",
    "def is_perfect(n):\n",
    "    divisors = [i for i in range(1, n) if n % i == 0]\n",
    "    return sum(divisors) == n"
   ]
  },
  {
   "cell_type": "code",
   "execution_count": 28,
   "id": "89ece05e-15fa-44e4-a8dc-f99e908af08a",
   "metadata": {},
   "outputs": [
    {
     "name": "stdout",
     "output_type": "stream",
     "text": [
      "True\n"
     ]
    }
   ],
   "source": [
    "print(is_perfect(6))"
   ]
  },
  {
   "cell_type": "code",
   "execution_count": 29,
   "id": "1c4a88c2-79d5-4a35-bf09-f010195111c6",
   "metadata": {},
   "outputs": [],
   "source": [
    "# 12. Check if a string is a palindrome\n",
    "def is_palindrome(s):\n",
    "    s = s.replace(\" \", \"\").lower()\n",
    "    return s == s[::-1]"
   ]
  },
  {
   "cell_type": "code",
   "execution_count": 30,
   "id": "d5e954b0-f346-4e78-bc18-885256698434",
   "metadata": {},
   "outputs": [
    {
     "name": "stdout",
     "output_type": "stream",
     "text": [
      "True\n"
     ]
    }
   ],
   "source": [
    "print(is_palindrome('madam'))"
   ]
  },
  {
   "cell_type": "code",
   "execution_count": null,
   "id": "9abd65ff-20f6-4829-9ec6-1e46d2f190c7",
   "metadata": {},
   "outputs": [],
   "source": []
  },
  {
   "cell_type": "code",
   "execution_count": null,
   "id": "bbd28727-a494-42ce-80f1-4a722327df89",
   "metadata": {},
   "outputs": [],
   "source": []
  },
  {
   "cell_type": "code",
   "execution_count": null,
   "id": "dda6abca-8aef-4f38-b045-404c3b9335bd",
   "metadata": {},
   "outputs": [],
   "source": []
  },
  {
   "cell_type": "code",
   "execution_count": null,
   "id": "76281c60-09d2-4cb1-ac62-d47283a628c2",
   "metadata": {},
   "outputs": [],
   "source": []
  }
 ],
 "metadata": {
  "kernelspec": {
   "display_name": "Python 3 (ipykernel)",
   "language": "python",
   "name": "python3"
  },
  "language_info": {
   "codemirror_mode": {
    "name": "ipython",
    "version": 3
   },
   "file_extension": ".py",
   "mimetype": "text/x-python",
   "name": "python",
   "nbconvert_exporter": "python",
   "pygments_lexer": "ipython3",
   "version": "3.12.7"
  }
 },
 "nbformat": 4,
 "nbformat_minor": 5
}
