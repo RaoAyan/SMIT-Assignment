{
 "cells": [
  {
   "cell_type": "markdown",
   "id": "a8461ac5-f631-4361-b905-4b787a4a9052",
   "metadata": {},
   "source": [
    "# Conditional Structures"
   ]
  },
  {
   "cell_type": "code",
   "execution_count": 1,
   "id": "76402d8a-599f-4510-b315-95c7bdab6d5d",
   "metadata": {},
   "outputs": [
    {
     "name": "stdin",
     "output_type": "stream",
     "text": [
      "Enter a number:  3\n"
     ]
    },
    {
     "name": "stdout",
     "output_type": "stream",
     "text": [
      "The number is odd.\n"
     ]
    }
   ],
   "source": [
    "# 1. Check if a number is even or odd\n",
    "number = int(input(\"Enter a number: \"))\n",
    "if number % 2 == 0:\n",
    "    print(\"The number is even.\")\n",
    "else:\n",
    "    print(\"The number is odd.\")"
   ]
  },
  {
   "cell_type": "code",
   "execution_count": 2,
   "id": "96ba16a5-b293-46d1-a34d-92cffc76726f",
   "metadata": {},
   "outputs": [
    {
     "name": "stdin",
     "output_type": "stream",
     "text": [
      "Enter your age:  12\n"
     ]
    },
    {
     "name": "stdout",
     "output_type": "stream",
     "text": [
      "You are not eligible to vote yet.\n"
     ]
    }
   ],
   "source": [
    "# 2. Check voting eligibility\n",
    "age = int(input(\"Enter your age: \"))\n",
    "if age >= 18:\n",
    "    print(\"You are eligible to vote.\")\n",
    "else:\n",
    "    print(\"You are not eligible to vote yet.\")"
   ]
  },
  {
   "cell_type": "code",
   "execution_count": 3,
   "id": "fa875686-fe08-4435-b098-21219c4ba510",
   "metadata": {},
   "outputs": [
    {
     "name": "stdin",
     "output_type": "stream",
     "text": [
      "Enter first number:  40\n",
      "Enter second number:  20\n"
     ]
    },
    {
     "name": "stdout",
     "output_type": "stream",
     "text": [
      "The largest number is: 40\n"
     ]
    }
   ],
   "source": [
    "# 3. Find the largest of two numbers\n",
    "num1 = int(input(\"Enter first number: \"))\n",
    "num2 = int(input(\"Enter second number: \"))\n",
    "if num1 > num2:\n",
    "    print(\"The largest number is:\", num1)\n",
    "elif num2 > num1:\n",
    "    print(\"The largest number is:\", num2)\n",
    "else:\n",
    "    print(\"Both numbers are equal.\")"
   ]
  },
  {
   "cell_type": "code",
   "execution_count": 4,
   "id": "f0d6ed86-dedc-4d26-a539-5afd745cbe07",
   "metadata": {},
   "outputs": [
    {
     "name": "stdin",
     "output_type": "stream",
     "text": [
      "Enter a number:  69\n"
     ]
    },
    {
     "name": "stdout",
     "output_type": "stream",
     "text": [
      "Positive\n"
     ]
    }
   ],
   "source": [
    "# 4. Check if a number is positive, negative, or zero\n",
    "num = float(input(\"Enter a number: \"))\n",
    "if num > 0:\n",
    "    print(\"Positive\")\n",
    "elif num < 0:\n",
    "    print(\"Negative\")\n",
    "else:\n",
    "    print(\"Zero\")"
   ]
  },
  {
   "cell_type": "code",
   "execution_count": 5,
   "id": "d0041256-503a-43c8-9096-f04395619842",
   "metadata": {},
   "outputs": [
    {
     "name": "stdin",
     "output_type": "stream",
     "text": [
      "Enter your age:  40\n"
     ]
    },
    {
     "name": "stdout",
     "output_type": "stream",
     "text": [
      "Adult\n"
     ]
    }
   ],
   "source": [
    "# 5. Determine age group\n",
    "age = int(input(\"Enter your age: \"))\n",
    "if age >= 0 and age <= 12:\n",
    "    print(\"Child\")\n",
    "elif age >= 13 and age <= 19:\n",
    "    print(\"Teenager\")\n",
    "elif age >= 20 and age <= 59:\n",
    "    print(\"Adult\")\n",
    "else:\n",
    "    print(\"Senior Citizen\")"
   ]
  },
  {
   "cell_type": "code",
   "execution_count": 6,
   "id": "76b046a9-7084-443d-96aa-b5959e5d0a82",
   "metadata": {},
   "outputs": [
    {
     "name": "stdin",
     "output_type": "stream",
     "text": [
      "Enter a number (1-7):  3\n"
     ]
    },
    {
     "name": "stdout",
     "output_type": "stream",
     "text": [
      "Tuesday\n"
     ]
    }
   ],
   "source": [
    "# 6. Display day of the week\n",
    "num = int(input(\"Enter a number (1-7): \"))\n",
    "if num == 1:\n",
    "    print(\"Sunday\")\n",
    "elif num == 2:\n",
    "    print(\"Monday\")\n",
    "elif num == 3:\n",
    "    print(\"Tuesday\")\n",
    "elif num == 4:\n",
    "    print(\"Wednesday\")\n",
    "elif num == 5:\n",
    "    print(\"Thursday\")\n",
    "elif num == 6:\n",
    "    print(\"Friday\")\n",
    "elif num == 7:\n",
    "    print(\"Saturday\")\n",
    "else:\n",
    "    print(\"Error: Invalid number\")"
   ]
  },
  {
   "cell_type": "code",
   "execution_count": 7,
   "id": "6ad94111-41b5-4202-827e-5914f7fd2541",
   "metadata": {},
   "outputs": [
    {
     "name": "stdin",
     "output_type": "stream",
     "text": [
      "Enter weight in kg:  60\n",
      "Enter height in meters:  1.8288\n"
     ]
    },
    {
     "name": "stdout",
     "output_type": "stream",
     "text": [
      "Your BMI is: 17.94\n",
      "Underweight\n"
     ]
    }
   ],
   "source": [
    "# 7. Calculate BMI\n",
    "weight = float(input(\"Enter weight in kg: \"))\n",
    "height = float(input(\"Enter height in meters: \"))\n",
    "bmi = weight / (height * height)\n",
    "print(\"Your BMI is:\", round(bmi, 2))\n",
    "if bmi < 18.5:\n",
    "    print(\"Underweight\")\n",
    "elif 18.5 <= bmi <= 24.9:\n",
    "    print(\"Normal weight\")\n",
    "elif 25 <= bmi <= 29.9:\n",
    "    print(\"Overweight\")\n",
    "else:\n",
    "    print(\"Obesity\")"
   ]
  },
  {
   "cell_type": "code",
   "execution_count": 8,
   "id": "7d9b42af-5e7b-4db0-8910-279c0bc76c17",
   "metadata": {},
   "outputs": [
    {
     "name": "stdin",
     "output_type": "stream",
     "text": [
      "Enter marks for subject 1:  60\n",
      "Enter marks for subject 2:  57\n",
      "Enter marks for subject 3:  87\n"
     ]
    },
    {
     "name": "stdout",
     "output_type": "stream",
     "text": [
      "Average marks: 68.0\n",
      "Grade: D\n"
     ]
    }
   ],
   "source": [
    "# 8. Calculate average and display grade\n",
    "mark1 = float(input(\"Enter marks for subject 1: \"))\n",
    "mark2 = float(input(\"Enter marks for subject 2: \"))\n",
    "mark3 = float(input(\"Enter marks for subject 3: \"))\n",
    "average = (mark1 + mark2 + mark3) / 3\n",
    "print(\"Average marks:\", round(average, 2))\n",
    "if 90 <= average <= 100:\n",
    "    print(\"Grade: A\")\n",
    "elif 80 <= average < 90:\n",
    "    print(\"Grade: B\")\n",
    "elif 70 <= average < 80:\n",
    "    print(\"Grade: C\")\n",
    "elif 60 <= average < 70:\n",
    "    print(\"Grade: D\")\n",
    "else:\n",
    "    print(\"Grade: F\")\n"
   ]
  },
  {
   "cell_type": "code",
   "execution_count": 9,
   "id": "3872e330-89d3-4544-a5db-34f45fa87d66",
   "metadata": {},
   "outputs": [
    {
     "name": "stdin",
     "output_type": "stream",
     "text": [
      "Enter coefficient a:  7\n",
      "Enter coefficient b:  9\n",
      "Enter coefficient c:  4\n"
     ]
    },
    {
     "name": "stdout",
     "output_type": "stream",
     "text": [
      "Complex roots\n"
     ]
    }
   ],
   "source": [
    "# 9. Solve quadratic equation\n",
    "import math\n",
    "a = float(input(\"Enter coefficient a: \"))\n",
    "b = float(input(\"Enter coefficient b: \"))\n",
    "c = float(input(\"Enter coefficient c: \"))\n",
    "discriminant = b**2 - 4 * a * c\n",
    "if discriminant > 0:\n",
    "    root1 = (-b + math.sqrt(discriminant)) / (2 * a)\n",
    "    root2 = (-b - math.sqrt(discriminant)) / (2 * a)\n",
    "    print(\"Two real roots:\", root1, \"and\", root2)\n",
    "elif discriminant == 0:\n",
    "    root = -b / (2 * a)\n",
    "    print(\"One real root:\", root)\n",
    "else:\n",
    "    print(\"Complex roots\")"
   ]
  },
  {
   "cell_type": "code",
   "execution_count": 10,
   "id": "3d87fb71-5d65-4229-9b34-908ea210ade0",
   "metadata": {},
   "outputs": [
    {
     "name": "stdin",
     "output_type": "stream",
     "text": [
      "Enter first number:  9\n",
      "Enter second number:  4\n",
      "Enter third number:  7\n"
     ]
    },
    {
     "name": "stdout",
     "output_type": "stream",
     "text": [
      "Sorted numbers: [4, 7, 9]\n"
     ]
    }
   ],
   "source": [
    "# 10. Sort three numbers in ascending order\n",
    "x = int(input(\"Enter first number: \"))\n",
    "y = int(input(\"Enter second number: \"))\n",
    "z = int(input(\"Enter third number: \"))\n",
    "nums = [x, y, z]\n",
    "nums.sort()\n",
    "print(\"Sorted numbers:\", nums)"
   ]
  },
  {
   "cell_type": "code",
   "execution_count": 11,
   "id": "36581f3d-add1-4fd2-bdd5-76985958e1d1",
   "metadata": {},
   "outputs": [
    {
     "name": "stdin",
     "output_type": "stream",
     "text": [
      "Enter first number:  9686\n",
      "Enter second number:  5476\n",
      "Enter third number:  86658760\n"
     ]
    },
    {
     "name": "stdout",
     "output_type": "stream",
     "text": [
      "Largest number is: 86658760\n"
     ]
    }
   ],
   "source": [
    "# 11. Find the largest of three numbers\n",
    "x = int(input(\"Enter first number: \"))\n",
    "y = int(input(\"Enter second number: \"))\n",
    "z = int(input(\"Enter third number: \"))\n",
    "if x >= y and x >= z:\n",
    "    print(\"Largest number is:\", x)\n",
    "elif y >= x and y >= z:\n",
    "    print(\"Largest number is:\", y)\n",
    "else:\n",
    "    print(\"Largest number is:\", z)"
   ]
  },
  {
   "cell_type": "code",
   "execution_count": 12,
   "id": "2d32b6f2-c7f1-4ed4-b708-cdb074639ad2",
   "metadata": {},
   "outputs": [
    {
     "name": "stdin",
     "output_type": "stream",
     "text": [
      "Enter a character:  j\n"
     ]
    },
    {
     "name": "stdout",
     "output_type": "stream",
     "text": [
      "Consonant\n"
     ]
    }
   ],
   "source": [
    "# 12. Check if a character is a vowel or consonant\n",
    "char = input(\"Enter a character: \").lower()\n",
    "if char in 'aeiou':\n",
    "    print(\"Vowel\")\n",
    "else:\n",
    "    print(\"Consonant\")"
   ]
  },
  {
   "cell_type": "code",
   "execution_count": 14,
   "id": "0022ce8b-bc8a-425b-83af-ce486dccf525",
   "metadata": {},
   "outputs": [
    {
     "name": "stdin",
     "output_type": "stream",
     "text": [
      "Enter a year:  2009\n"
     ]
    },
    {
     "name": "stdout",
     "output_type": "stream",
     "text": [
      "Not a Leap Year\n"
     ]
    }
   ],
   "source": [
    "# 13. Check if a year is a leap year\n",
    "year = int(input(\"Enter a year: \"))\n",
    "if (year % 4 == 0 and year % 100 != 0) or (year % 400 == 0):\n",
    "    print(\"Leap Year\")\n",
    "else:\n",
    "    print(\"Not a Leap Year\")"
   ]
  },
  {
   "cell_type": "code",
   "execution_count": 15,
   "id": "ddb2ceaf-29ed-4375-ae3c-74540dcb2010",
   "metadata": {},
   "outputs": [
    {
     "name": "stdin",
     "output_type": "stream",
     "text": [
      "Enter number of calls:  78\n"
     ]
    },
    {
     "name": "stdout",
     "output_type": "stream",
     "text": [
      "Total bill: Rs. 200\n"
     ]
    }
   ],
   "source": [
    "# 14. Calculate telephone bill\n",
    "calls = int(input(\"Enter number of calls: \"))\n",
    "bill = 200\n",
    "if calls > 100:\n",
    "    if calls <= 150:\n",
    "        bill += (calls - 100) * 0.60\n",
    "    elif calls <= 200:\n",
    "        bill += 50 * 0.60 + (calls - 150) * 0.50\n",
    "    else:\n",
    "        bill += 50 * 0.60 + 50 * 0.50 + (calls - 200) * 0.40\n",
    "print(\"Total bill: Rs.\", bill)"
   ]
  },
  {
   "cell_type": "markdown",
   "id": "9303f7cc-8147-42af-baf4-00f25a886044",
   "metadata": {},
   "source": [
    "# List Assignment"
   ]
  },
  {
   "cell_type": "code",
   "execution_count": 16,
   "id": "de525047-c7c5-4034-8870-b29ca46aabdc",
   "metadata": {},
   "outputs": [
    {
     "name": "stdin",
     "output_type": "stream",
     "text": [
      "Enter elements separated by space:  ajasj, asjdhas\n"
     ]
    },
    {
     "name": "stdout",
     "output_type": "stream",
     "text": [
      "Alternate elements are: ['ajasj,']\n"
     ]
    }
   ],
   "source": [
    "# 1. Program to print alternate elements of a list\n",
    "user_list = input(\"Enter elements separated by space: \").split()\n",
    "print(\"Alternate elements are:\", user_list[::2])"
   ]
  },
  {
   "cell_type": "code",
   "execution_count": 17,
   "id": "3b133d6a-9cf4-4afd-a621-aea6d73cb591",
   "metadata": {},
   "outputs": [
    {
     "name": "stdin",
     "output_type": "stream",
     "text": [
      "Enter elements separated by space:  Ayan, Aban, Muzzammil\n"
     ]
    },
    {
     "name": "stdout",
     "output_type": "stream",
     "text": [
      "Reversed list: ['Muzzammil', 'Aban,', 'Ayan,']\n"
     ]
    }
   ],
   "source": [
    "# 2. Program to reverse a list (without using reverse() method)\n",
    "user_list = input(\"Enter elements separated by space: \").split()\n",
    "reversed_list = []\n",
    "for i in range(len(user_list) - 1, -1, -1):\n",
    "    reversed_list.append(user_list[i])\n",
    "print(\"Reversed list:\", reversed_list)"
   ]
  },
  {
   "cell_type": "code",
   "execution_count": 18,
   "id": "29e22e8e-f5e2-4cf2-8e9a-a5820ea9c350",
   "metadata": {},
   "outputs": [
    {
     "name": "stdin",
     "output_type": "stream",
     "text": [
      "Enter numbers separated by space:  3 4 5 6 84 32 634 12\n"
     ]
    },
    {
     "name": "stdout",
     "output_type": "stream",
     "text": [
      "Largest number is: 634\n"
     ]
    }
   ],
   "source": [
    "# 3. Program to find the largest number in a list (without using max())\n",
    "user_list = input(\"Enter numbers separated by space: \").split()\n",
    "user_list = [int(x) for x in user_list]\n",
    "largest = user_list[0]\n",
    "for num in user_list:\n",
    "    if num > largest:\n",
    "        largest = num\n",
    "print(\"Largest number is:\", largest)"
   ]
  },
  {
   "cell_type": "code",
   "execution_count": 19,
   "id": "3862d30b-4fd3-4049-9c8b-7c766bcdc090",
   "metadata": {},
   "outputs": [
    {
     "name": "stdin",
     "output_type": "stream",
     "text": [
      "Enter elements separated by space:  Ayan, Aban, Subhan\n"
     ]
    },
    {
     "name": "stdout",
     "output_type": "stream",
     "text": [
      "Rotated list: ['Aban,', 'Subhan', 'Ayan,']\n"
     ]
    }
   ],
   "source": [
    "# 4. Program to rotate elements of a list\n",
    "user_list = input(\"Enter elements separated by space: \").split()\n",
    "rotated_list = user_list[1:] + user_list[:1]\n",
    "print(\"Rotated list:\", rotated_list)"
   ]
  },
  {
   "cell_type": "code",
   "execution_count": 20,
   "id": "18289295-3546-4b57-b62b-71a27d5f89f6",
   "metadata": {},
   "outputs": [
    {
     "name": "stdin",
     "output_type": "stream",
     "text": [
      "Enter a string:  Ayan\n",
      "Enter the word to delete:  a\n"
     ]
    },
    {
     "name": "stdout",
     "output_type": "stream",
     "text": [
      "String after deletion: Ayn\n"
     ]
    }
   ],
   "source": [
    "# 5. Program to delete a word from a string\n",
    "user_string = input(\"Enter a string: \")\n",
    "word_to_delete = input(\"Enter the word to delete: \")\n",
    "new_string = user_string.replace(word_to_delete, \"\")\n",
    "print(\"String after deletion:\", new_string)"
   ]
  },
  {
   "cell_type": "code",
   "execution_count": 21,
   "id": "522eaf47-bc0f-4aa8-8653-11c3dc9d85c0",
   "metadata": {},
   "outputs": [
    {
     "name": "stdin",
     "output_type": "stream",
     "text": [
      "Enter date (mm/dd/yyyy):  3/13/2003\n"
     ]
    },
    {
     "name": "stdout",
     "output_type": "stream",
     "text": [
      "March 13, 2003\n"
     ]
    }
   ],
   "source": [
    "# 6. Program to convert date format\n",
    "user_date = input(\"Enter date (mm/dd/yyyy): \")\n",
    "months = [\"January\", \"February\", \"March\", \"April\", \"May\", \"June\", \"July\", \"August\", \"September\", \"October\", \"November\", \"December\"]\n",
    "month, day, year = user_date.split('/')\n",
    "print(f\"{months[int(month) - 1]} {int(day)}, {year}\")"
   ]
  },
  {
   "cell_type": "code",
   "execution_count": 22,
   "id": "7294993c-38cb-4cf3-b3d8-9ec55ce90bbd",
   "metadata": {},
   "outputs": [
    {
     "name": "stdin",
     "output_type": "stream",
     "text": [
      "Enter a sentence:  I feeling very lovely.\n"
     ]
    },
    {
     "name": "stdout",
     "output_type": "stream",
     "text": [
      "Capitalized sentence: I Feeling Very Lovely.\n"
     ]
    }
   ],
   "source": [
    "# 7. Program to capitalize each word in a sentence\n",
    "def capitalize_words(sentence):\n",
    "    words = sentence.split()\n",
    "    new_sentence = \" \".join(word.capitalize() for word in words)\n",
    "    return new_sentence\n",
    "\n",
    "user_sentence = input(\"Enter a sentence: \")\n",
    "print(\"Capitalized sentence:\", capitalize_words(user_sentence))"
   ]
  },
  {
   "cell_type": "code",
   "execution_count": 23,
   "id": "c752cab8-180d-476d-9cac-b742a2f52690",
   "metadata": {},
   "outputs": [
    {
     "name": "stdin",
     "output_type": "stream",
     "text": [
      "Enter number of rows:  3\n",
      "Enter number of columns:  3\n",
      "Enter elements of row 1:  2\n",
      "Enter elements of row 2:  2\n",
      "Enter elements of row 3:  2\n"
     ]
    },
    {
     "name": "stdout",
     "output_type": "stream",
     "text": [
      "Sum of row 1 = 2\n",
      "Sum of row 2 = 2\n",
      "Sum of row 3 = 2\n"
     ]
    }
   ],
   "source": [
    "# 8. Program to find sum of each row in a matrix\n",
    "m = int(input(\"Enter number of rows: \"))\n",
    "n = int(input(\"Enter number of columns: \"))\n",
    "matrix = []\n",
    "\n",
    "for i in range(m):\n",
    "    row = [int(x) for x in input(f\"Enter elements of row {i + 1}: \").split()]\n",
    "    matrix.append(row)\n",
    "\n",
    "for i in range(m):\n",
    "    print(f\"Sum of row {i + 1} =\", sum(matrix[i]))"
   ]
  },
  {
   "cell_type": "code",
   "execution_count": 26,
   "id": "d440b066-4554-4759-9ab9-08a12e7c31c7",
   "metadata": {},
   "outputs": [
    {
     "name": "stdin",
     "output_type": "stream",
     "text": [
      "Enter number of rows:  2\n",
      "Enter number of columns:  2\n"
     ]
    },
    {
     "name": "stdout",
     "output_type": "stream",
     "text": [
      "Enter first matrix:\n"
     ]
    },
    {
     "name": "stdin",
     "output_type": "stream",
     "text": [
      " 3 4\n",
      " 2 5\n"
     ]
    },
    {
     "name": "stdout",
     "output_type": "stream",
     "text": [
      "Enter second matrix:\n"
     ]
    },
    {
     "name": "stdin",
     "output_type": "stream",
     "text": [
      " 2 6\n",
      " 1 9\n"
     ]
    },
    {
     "name": "stdout",
     "output_type": "stream",
     "text": [
      "Sum of matrices:\n",
      "5 10\n",
      "3 14\n"
     ]
    }
   ],
   "source": [
    "# 9. Program to add two matrices\n",
    "m = int(input(\"Enter number of rows: \"))\n",
    "n = int(input(\"Enter number of columns: \"))\n",
    "\n",
    "print(\"Enter first matrix:\")\n",
    "matrix1 = [[int(x) for x in input().split()] for _ in range(m)]\n",
    "\n",
    "print(\"Enter second matrix:\")\n",
    "matrix2 = [[int(x) for x in input().split()] for _ in range(m)]\n",
    "\n",
    "result = [[matrix1[i][j] + matrix2[i][j] for j in range(n)] for i in range(m)]\n",
    "\n",
    "print(\"Sum of matrices:\")\n",
    "for row in result:\n",
    "    print(*row)\n"
   ]
  },
  {
   "cell_type": "code",
   "execution_count": 27,
   "id": "ff4cfd8d-6a52-404e-ba44-52752bf4c920",
   "metadata": {},
   "outputs": [
    {
     "name": "stdin",
     "output_type": "stream",
     "text": [
      "Enter number of rows of first matrix:  4\n",
      "Enter number of columns of first matrix (and rows of second):  2\n",
      "Enter number of columns of second matrix:  4\n"
     ]
    },
    {
     "name": "stdout",
     "output_type": "stream",
     "text": [
      "Enter first matrix:\n"
     ]
    },
    {
     "name": "stdin",
     "output_type": "stream",
     "text": [
      " 4 4\n",
      " 3 5\n",
      " 2 5\n",
      " 2 7\n"
     ]
    },
    {
     "name": "stdout",
     "output_type": "stream",
     "text": [
      "Enter second matrix:\n"
     ]
    },
    {
     "name": "stdin",
     "output_type": "stream",
     "text": [
      " 3 8 1 9\n",
      " 2 9 4 12\n"
     ]
    },
    {
     "name": "stdout",
     "output_type": "stream",
     "text": [
      "Product of matrices:\n",
      "20 68 20 84\n",
      "19 69 23 87\n",
      "16 61 22 78\n",
      "20 79 30 102\n"
     ]
    }
   ],
   "source": [
    "# 10. Program to multiply two matrices\n",
    "m = int(input(\"Enter number of rows of first matrix: \"))\n",
    "n = int(input(\"Enter number of columns of first matrix (and rows of second): \"))\n",
    "p = int(input(\"Enter number of columns of second matrix: \"))\n",
    "\n",
    "print(\"Enter first matrix:\")\n",
    "matrix1 = [[int(x) for x in input().split()] for _ in range(m)]\n",
    "\n",
    "print(\"Enter second matrix:\")\n",
    "matrix2 = [[int(x) for x in input().split()] for _ in range(n)]\n",
    "\n",
    "result = [[0 for _ in range(p)] for _ in range(m)]\n",
    "\n",
    "for i in range(m):\n",
    "    for j in range(p):\n",
    "        for k in range(n):\n",
    "            result[i][j] += matrix1[i][k] * matrix2[k][j]\n",
    "\n",
    "print(\"Product of matrices:\")\n",
    "for row in result:\n",
    "    print(*row)"
   ]
  },
  {
   "cell_type": "markdown",
   "id": "ea07aa0b-e0fe-418a-a12a-94a719a74a28",
   "metadata": {},
   "source": [
    "# Looping Structures"
   ]
  },
  {
   "cell_type": "code",
   "execution_count": 28,
   "id": "f0d474e0-4ac0-4fb2-8102-fed7e3534e64",
   "metadata": {},
   "outputs": [
    {
     "name": "stdout",
     "output_type": "stream",
     "text": [
      "1\n",
      "2\n",
      "3\n",
      "4\n",
      "5\n",
      "6\n",
      "7\n",
      "8\n",
      "9\n",
      "10\n"
     ]
    }
   ],
   "source": [
    "# 1. Print numbers from 1 to 10 using a for loop\n",
    "for i in range(1, 11):\n",
    "    print(i)"
   ]
  },
  {
   "cell_type": "code",
   "execution_count": 29,
   "id": "3b3909ba-a754-4178-bbbf-eba8f3241806",
   "metadata": {},
   "outputs": [
    {
     "name": "stdout",
     "output_type": "stream",
     "text": [
      "20\n",
      "19\n",
      "18\n",
      "17\n",
      "16\n",
      "15\n",
      "14\n",
      "13\n",
      "12\n",
      "11\n",
      "10\n",
      "9\n",
      "8\n",
      "7\n",
      "6\n",
      "5\n",
      "4\n",
      "3\n",
      "2\n",
      "1\n"
     ]
    }
   ],
   "source": [
    "# 2. Print numbers from 20 to 1 using a while loop\n",
    "num = 20\n",
    "while num >= 1:\n",
    "    print(num)\n",
    "    num -= 1"
   ]
  },
  {
   "cell_type": "code",
   "execution_count": 30,
   "id": "6b5705b4-7beb-4688-81d4-548f701bb9a0",
   "metadata": {},
   "outputs": [
    {
     "name": "stdout",
     "output_type": "stream",
     "text": [
      "2\n",
      "4\n",
      "6\n",
      "8\n",
      "10\n"
     ]
    }
   ],
   "source": [
    "# 3. Print even numbers from 1 to 10\n",
    "for i in range(1, 11):\n",
    "    if i % 2 == 0:\n",
    "        print(i)"
   ]
  },
  {
   "cell_type": "code",
   "execution_count": 33,
   "id": "11003779-abc4-41ed-85d5-11e6224b4b8c",
   "metadata": {},
   "outputs": [
    {
     "name": "stdin",
     "output_type": "stream",
     "text": [
      "Enter a number:  3\n"
     ]
    },
    {
     "name": "stdout",
     "output_type": "stream",
     "text": [
      "1\n",
      "2\n",
      "3\n"
     ]
    }
   ],
   "source": [
    "# 4. Print numbers from 1 to n\n",
    "n = int(input(\"Enter a number: \"))\n",
    "for i in range(1, n + 1):\n",
    "    print(i)"
   ]
  },
  {
   "cell_type": "code",
   "execution_count": 34,
   "id": "910d8f38-fe7c-4427-949a-eac2913f3820",
   "metadata": {},
   "outputs": [
    {
     "name": "stdin",
     "output_type": "stream",
     "text": [
      "Enter a number:  5\n"
     ]
    },
    {
     "name": "stdout",
     "output_type": "stream",
     "text": [
      "1\n",
      "3\n",
      "5\n"
     ]
    }
   ],
   "source": [
    "# 5. Print odd numbers from 1 to n\n",
    "n = int(input(\"Enter a number: \"))\n",
    "for i in range(1, n + 1):\n",
    "    if i % 2 != 0:\n",
    "        print(i)"
   ]
  },
  {
   "cell_type": "code",
   "execution_count": 37,
   "id": "9872f371-6ce3-4bf8-8665-5affa057347d",
   "metadata": {},
   "outputs": [
    {
     "name": "stdout",
     "output_type": "stream",
     "text": [
      "Happy Birthday Bro!\n",
      "Happy Birthday Bro!\n",
      "Happy Birthday Bro!\n",
      "Happy Birthday Bro!\n",
      "Happy Birthday Bro!\n"
     ]
    }
   ],
   "source": [
    "# 6. Print 'Happy Birthday!' five times\n",
    "for i in range(5):\n",
    "    print(\"Happy Birthday Bro!\")"
   ]
  },
  {
   "cell_type": "code",
   "execution_count": 36,
   "id": "4a57479f-d5e0-4799-aa89-1ce9253570db",
   "metadata": {},
   "outputs": [
    {
     "name": "stdin",
     "output_type": "stream",
     "text": [
      "Enter a number:  5\n"
     ]
    },
    {
     "name": "stdout",
     "output_type": "stream",
     "text": [
      "1 4 9 16 25 \n"
     ]
    }
   ],
   "source": [
    "# 7. Generate first n terms of the square series\n",
    "n = int(input(\"Enter a number: \"))\n",
    "for i in range(1, n + 1):\n",
    "    print(i * i, end=\" \")\n",
    "print()"
   ]
  },
  {
   "cell_type": "code",
   "execution_count": 39,
   "id": "14e2f942-0d10-43bf-92fa-0b0afb05e140",
   "metadata": {},
   "outputs": [
    {
     "name": "stdin",
     "output_type": "stream",
     "text": [
      "Enter a number:  8\n"
     ]
    },
    {
     "name": "stdout",
     "output_type": "stream",
     "text": [
      "8 x 1 = 8\n",
      "8 x 2 = 16\n",
      "8 x 3 = 24\n",
      "8 x 4 = 32\n",
      "8 x 5 = 40\n",
      "8 x 6 = 48\n",
      "8 x 7 = 56\n",
      "8 x 8 = 64\n",
      "8 x 9 = 72\n",
      "8 x 10 = 80\n"
     ]
    }
   ],
   "source": [
    "# 8. Print multiplication table of a number\n",
    "num = int(input(\"Enter a number: \"))\n",
    "for i in range(1, 11):\n",
    "    print(f\"{num} x {i} = {num * i}\")"
   ]
  },
  {
   "cell_type": "code",
   "execution_count": 40,
   "id": "8c659baa-e0c3-44ab-a7ed-585d7d922a99",
   "metadata": {},
   "outputs": [
    {
     "name": "stdout",
     "output_type": "stream",
     "text": [
      "3 7 11 15 19 23 27 31 \n"
     ]
    }
   ],
   "source": [
    "# 9. First 8 terms of an arithmetic progression (starting at 3, difference 4)\n",
    "start = 3\n",
    "diff = 4\n",
    "for i in range(8):\n",
    "    print(start, end=\" \")\n",
    "    start += diff\n",
    "print()"
   ]
  },
  {
   "cell_type": "code",
   "execution_count": 41,
   "id": "86bf1aba-8a3c-41e7-a71d-acf3eca3f91e",
   "metadata": {},
   "outputs": [
    {
     "name": "stdout",
     "output_type": "stream",
     "text": [
      "2 6 18 54 162 486 \n"
     ]
    }
   ],
   "source": [
    "# 10. First 6 terms of a geometric sequence (starting at 2, ratio 3)\n",
    "start = 2\n",
    "ratio = 3\n",
    "for i in range(6):\n",
    "    print(start, end=\" \")\n",
    "    start *= ratio\n",
    "print()"
   ]
  },
  {
   "cell_type": "code",
   "execution_count": 42,
   "id": "08a4f659-6cf2-4c88-ac2a-03242ed178cf",
   "metadata": {},
   "outputs": [
    {
     "name": "stdin",
     "output_type": "stream",
     "text": [
      "Enter a number:  4\n"
     ]
    },
    {
     "name": "stdout",
     "output_type": "stream",
     "text": [
      "Sum is: 10\n"
     ]
    }
   ],
   "source": [
    "# 11. Sum of all numbers from 1 to n\n",
    "n = int(input(\"Enter a number: \"))\n",
    "sum_total = 0\n",
    "for i in range(1, n + 1):\n",
    "    sum_total += i\n",
    "print(\"Sum is:\", sum_total)"
   ]
  },
  {
   "cell_type": "code",
   "execution_count": 43,
   "id": "e279fe99-f097-471e-a7c1-8bd0aeaed7c1",
   "metadata": {},
   "outputs": [
    {
     "name": "stdin",
     "output_type": "stream",
     "text": [
      "Enter a positive integer:  7\n"
     ]
    },
    {
     "name": "stdout",
     "output_type": "stream",
     "text": [
      "The sum of reciprocals from 1 to 7 is: 2.59\n"
     ]
    }
   ],
   "source": [
    "# 12. Sum of reciprocals from 1 to n\n",
    "n = int(input(\"Enter a positive integer: \"))\n",
    "sum_reciprocal = 0\n",
    "for i in range(1, n + 1):\n",
    "    sum_reciprocal += 1 / i\n",
    "print(f\"The sum of reciprocals from 1 to {n} is: {sum_reciprocal:.2f}\")"
   ]
  },
  {
   "cell_type": "code",
   "execution_count": 44,
   "id": "02cc94b2-fcaf-4ae6-9a56-38b1fb9bf374",
   "metadata": {},
   "outputs": [
    {
     "name": "stdin",
     "output_type": "stream",
     "text": [
      "Enter a number:  3\n",
      "Enter a number:  2\n",
      "Enter a number:  4\n",
      "Enter a number:  6\n",
      "Enter a number:  8\n"
     ]
    },
    {
     "name": "stdout",
     "output_type": "stream",
     "text": [
      "The final running total is: 23\n"
     ]
    }
   ],
   "source": [
    "# 13. Accumulate 5 numbers and display running total\n",
    "total = 0\n",
    "for i in range(5):\n",
    "    num = int(input(\"Enter a number: \"))\n",
    "    total += num\n",
    "print(\"The final running total is:\", total)"
   ]
  },
  {
   "cell_type": "code",
   "execution_count": 45,
   "id": "703cac59-9188-49b2-a907-eab7f5827083",
   "metadata": {},
   "outputs": [
    {
     "name": "stdin",
     "output_type": "stream",
     "text": [
      "Enter a positive integer:  8\n"
     ]
    },
    {
     "name": "stdout",
     "output_type": "stream",
     "text": [
      "The factorial of 8 is 40320.\n"
     ]
    }
   ],
   "source": [
    "# 14. Calculate factorial of a positive integer\n",
    "n = int(input(\"Enter a positive integer: \"))\n",
    "if n < 0:\n",
    "    print(\"Factorial does not exist for negative numbers.\")\n",
    "elif n == 0:\n",
    "    print(\"The factorial of 0 is 1.\")\n",
    "else:\n",
    "    fact = 1\n",
    "    for i in range(1, n + 1):\n",
    "        fact *= i\n",
    "    print(f\"The factorial of {n} is {fact}.\")"
   ]
  },
  {
   "cell_type": "code",
   "execution_count": 46,
   "id": "28e6e4d2-1161-4330-a839-c7b53399815f",
   "metadata": {},
   "outputs": [
    {
     "name": "stdin",
     "output_type": "stream",
     "text": [
      "Enter the base number:  8\n",
      "Enter the exponent:  3\n"
     ]
    },
    {
     "name": "stdout",
     "output_type": "stream",
     "text": [
      "8 raised to the power 3 is 512\n"
     ]
    }
   ],
   "source": [
    "# 15. Calculate power of a number (without using ** or math.pow())\n",
    "base = int(input(\"Enter the base number: \"))\n",
    "exponent = int(input(\"Enter the exponent: \"))\n",
    "result = 1\n",
    "if exponent >= 0:\n",
    "    for i in range(exponent):\n",
    "        result *= base\n",
    "else:\n",
    "    for i in range(-exponent):\n",
    "        result *= base\n",
    "    result = 1 / result\n",
    "print(f\"{base} raised to the power {exponent} is {result}\")\n"
   ]
  },
  {
   "cell_type": "markdown",
   "id": "36593d13-9f92-4798-9546-b5ee0c5304ee",
   "metadata": {},
   "source": [
    "# String Assignments"
   ]
  },
  {
   "cell_type": "code",
   "execution_count": 47,
   "id": "8bcc8b1d-88f6-4740-877b-29567a6b6d52",
   "metadata": {},
   "outputs": [
    {
     "name": "stdin",
     "output_type": "stream",
     "text": [
      "Enter a string:  Hey Buddy, how're you?\n"
     ]
    },
    {
     "name": "stdout",
     "output_type": "stream",
     "text": [
      "Number of vowels: 6\n"
     ]
    }
   ],
   "source": [
    "# 1. Count and display the number of vowels in a string\n",
    "vowels = 'aeiouAEIOU'\n",
    "user_string = input(\"Enter a string: \")\n",
    "vowel_count = 0\n",
    "for char in user_string:\n",
    "    if char in vowels:\n",
    "        vowel_count += 1\n",
    "print(\"Number of vowels:\", vowel_count)"
   ]
  },
  {
   "cell_type": "code",
   "execution_count": 48,
   "id": "9cc83874-fd45-4563-b8f1-dd661ba71355",
   "metadata": {},
   "outputs": [
    {
     "name": "stdin",
     "output_type": "stream",
     "text": [
      "Enter a string:  Lorem Ipsum is simply dummy text of the printing and typesetting industry. Lorem Ipsum has been the industry's standard dummy text ever since the 1500s, when an unknown printer took a galley of type and scrambled it to make a type specimen book. It has survived not only five centuries, but also the leap into electronic typesetting, remaining essentially unchanged. It was popularised in the 1960s with the release of Letraset sheets containing Lorem Ipsum passages, and more recently with desktop publishing software like Aldus PageMaker including versions of Lorem Ipsum.\n"
     ]
    },
    {
     "name": "stdout",
     "output_type": "stream",
     "text": [
      "Uppercase letters: 14\n",
      "Lowercase letters: 453\n",
      "Digits: 8\n",
      "Whitespace characters: 90\n"
     ]
    }
   ],
   "source": [
    "# 2. Count uppercase, lowercase, digits, and whitespaces\n",
    "user_string = input(\"Enter a string: \")\n",
    "upper = lower = digits = spaces = 0\n",
    "for char in user_string:\n",
    "    if char.isupper():\n",
    "        upper += 1\n",
    "    elif char.islower():\n",
    "        lower += 1\n",
    "    elif char.isdigit():\n",
    "        digits += 1\n",
    "    elif char.isspace():\n",
    "        spaces += 1\n",
    "print(\"Uppercase letters:\", upper)\n",
    "print(\"Lowercase letters:\", lower)\n",
    "print(\"Digits:\", digits)\n",
    "print(\"Whitespace characters:\", spaces)"
   ]
  },
  {
   "cell_type": "code",
   "execution_count": 49,
   "id": "024cc482-96d1-4d99-bcca-597948c3378e",
   "metadata": {},
   "outputs": [
    {
     "name": "stdin",
     "output_type": "stream",
     "text": [
      "Enter a string:  Hey Buddy\n"
     ]
    },
    {
     "name": "stdout",
     "output_type": "stream",
     "text": [
      "Modified string: yey BuddH\n"
     ]
    }
   ],
   "source": [
    "# 3. Swap first and last characters in a string\n",
    "user_string = input(\"Enter a string: \")\n",
    "if len(user_string) >= 2:\n",
    "    new_string = user_string[-1] + user_string[1:-1] + user_string[0]\n",
    "    print(\"Modified string:\", new_string)\n",
    "else:\n",
    "    print(\"String too short to swap characters.\")"
   ]
  },
  {
   "cell_type": "code",
   "execution_count": 50,
   "id": "0dafc015-1b98-4070-9ead-554608e15c18",
   "metadata": {},
   "outputs": [
    {
     "name": "stdin",
     "output_type": "stream",
     "text": [
      "Enter a string:  Kesa Ho Bruh\n"
     ]
    },
    {
     "name": "stdout",
     "output_type": "stream",
     "text": [
      "Reversed string: hurB oH aseK\n"
     ]
    }
   ],
   "source": [
    "# 4. Reverse a string\n",
    "user_string = input(\"Enter a string: \")\n",
    "reversed_string = \"\"\n",
    "for char in user_string:\n",
    "    reversed_string = char + reversed_string\n",
    "print(\"Reversed string:\", reversed_string)"
   ]
  },
  {
   "cell_type": "code",
   "execution_count": 51,
   "id": "e059cc74-26e4-473a-9433-e00af23017f1",
   "metadata": {},
   "outputs": [
    {
     "name": "stdin",
     "output_type": "stream",
     "text": [
      "Enter a string:  Main BilKul Theek\n"
     ]
    },
    {
     "name": "stdout",
     "output_type": "stream",
     "text": [
      "Shifted string: ain BilKul TheekM\n"
     ]
    }
   ],
   "source": [
    "# 5. Shift string left by one position\n",
    "user_string = input(\"Enter a string: \")\n",
    "shifted_string = user_string[1:] + user_string[0]\n",
    "print(\"Shifted string:\", shifted_string)"
   ]
  },
  {
   "cell_type": "code",
   "execution_count": 52,
   "id": "fbcb1e8b-5263-4254-9ad7-4e8fcb6f1a9f",
   "metadata": {},
   "outputs": [
    {
     "name": "stdin",
     "output_type": "stream",
     "text": [
      "Enter your full name:  Ayan Arfeen\n"
     ]
    },
    {
     "name": "stdout",
     "output_type": "stream",
     "text": [
      "Initials: A. A.\n"
     ]
    }
   ],
   "source": [
    "# 6. Print initials from name (without split())\n",
    "name = input(\"Enter your full name: \")\n",
    "initials = name[0] + \". \"\n",
    "for i in range(1, len(name)):\n",
    "    if name[i - 1] == ' ':\n",
    "        initials += name[i] + \". \"\n",
    "print(\"Initials:\", initials.strip())"
   ]
  },
  {
   "cell_type": "code",
   "execution_count": 57,
   "id": "4cc291a0-c8de-401e-b491-e91710dcb6a2",
   "metadata": {},
   "outputs": [
    {
     "name": "stdin",
     "output_type": "stream",
     "text": [
      "Enter a string:  civic\n"
     ]
    },
    {
     "name": "stdout",
     "output_type": "stream",
     "text": [
      "Palindrome: True\n"
     ]
    }
   ],
   "source": [
    "# 7. Check if a string is a palindrome\n",
    "user_string = input(\"Enter a string: \")\n",
    "is_palindrome = True\n",
    "for i in range(len(user_string)):\n",
    "    if user_string[i] != user_string[-(i + 1)]:\n",
    "        is_palindrome = False\n",
    "        break\n",
    "print(\"Palindrome:\", is_palindrome)"
   ]
  },
  {
   "cell_type": "code",
   "execution_count": 58,
   "id": "479ece7f-5724-4f66-b4c6-ba0b0d871fd8",
   "metadata": {},
   "outputs": [
    {
     "name": "stdout",
     "output_type": "stream",
     "text": [
      "SHIFT\n",
      "HIFTS\n",
      "IFTSH\n",
      "FTSHI\n",
      "TSHIF\n"
     ]
    }
   ],
   "source": [
    "# 8. Display shifting output\n",
    "text = \"SHIFT\"\n",
    "for i in range(len(text)):\n",
    "    print(text[i:] + text[:i])"
   ]
  },
  {
   "cell_type": "code",
   "execution_count": 61,
   "id": "96709f52-4e0d-40c0-97f8-db5c619e9f75",
   "metadata": {},
   "outputs": [
    {
     "name": "stdin",
     "output_type": "stream",
     "text": [
      "Enter a password:  Password@123\n"
     ]
    },
    {
     "name": "stdout",
     "output_type": "stream",
     "text": [
      "Password is valid\n"
     ]
    }
   ],
   "source": [
    "# 9. Password validation\n",
    "password = input(\"Enter a password: \")\n",
    "if (len(password) >= 8 and any(c.isupper() for c in password) and\n",
    "    any(c.islower() for c in password) and any(c.isdigit() for c in password)):\n",
    "    print(\"Password is valid\")\n",
    "else:\n",
    "    print(\"Invalid password\")"
   ]
  },
  {
   "cell_type": "code",
   "execution_count": null,
   "id": "8dd451ba-6745-41eb-8424-c321742e630f",
   "metadata": {},
   "outputs": [],
   "source": []
  }
 ],
 "metadata": {
  "kernelspec": {
   "display_name": "Python 3 (ipykernel)",
   "language": "python",
   "name": "python3"
  },
  "language_info": {
   "codemirror_mode": {
    "name": "ipython",
    "version": 3
   },
   "file_extension": ".py",
   "mimetype": "text/x-python",
   "name": "python",
   "nbconvert_exporter": "python",
   "pygments_lexer": "ipython3",
   "version": "3.12.7"
  }
 },
 "nbformat": 4,
 "nbformat_minor": 5
}
