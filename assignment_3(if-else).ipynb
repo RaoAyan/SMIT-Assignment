{
 "cells": [
  {
   "cell_type": "markdown",
   "id": "7d140798-94af-4a5c-a9f1-510d87511035",
   "metadata": {},
   "source": [
    "# Python If Else Practice Questions"
   ]
  },
  {
   "cell_type": "markdown",
   "id": "74a9117d-0e8b-4394-8bd7-0eaa9035e79b",
   "metadata": {},
   "source": [
    "### A- Discounts and Pricing"
   ]
  },
  {
   "cell_type": "markdown",
   "id": "acf03896-284d-41d7-8ae5-109793409dcb",
   "metadata": {},
   "source": [
    "### 1. Check Discount Eligibility"
   ]
  },
  {
   "cell_type": "code",
   "execution_count": 5,
   "id": "38a84af7-e822-46d3-b543-c159ff7251e6",
   "metadata": {},
   "outputs": [
    {
     "name": "stdin",
     "output_type": "stream",
     "text": [
      "Enter total purchase amount: $ 200\n"
     ]
    },
    {
     "name": "stdout",
     "output_type": "stream",
     "text": [
      "Final price: $ 180.0\n"
     ]
    }
   ],
   "source": [
    "# Check Discount Eligibility\n",
    "purchase_amount = float(input(\"Enter total purchase amount: $\"))\n",
    "if purchase_amount > 100:\n",
    "    discount = purchase_amount * 0.10\n",
    "    purchase_amount -= discount\n",
    "print(\"Final price: $\", purchase_amount)"
   ]
  },
  {
   "cell_type": "markdown",
   "id": "af6e31de-5fdd-40be-8927-4382c1f97b5b",
   "metadata": {},
   "source": [
    "### Calculate Bulk Discount"
   ]
  },
  {
   "cell_type": "code",
   "execution_count": 7,
   "id": "9582f1de-23f8-4204-9c4c-7c484ed33504",
   "metadata": {},
   "outputs": [
    {
     "name": "stdin",
     "output_type": "stream",
     "text": [
      "Enter number of items:  22\n",
      "Enter price per item: $ 2\n"
     ]
    },
    {
     "name": "stdout",
     "output_type": "stream",
     "text": [
      "Total price: $ 37.4\n"
     ]
    }
   ],
   "source": [
    "# Calculate Bulk Discount\n",
    "item_count = int(input(\"Enter number of items: \"))\n",
    "price_per_item = float(input(\"Enter price per item: $\"))\n",
    "total_price = item_count * price_per_item\n",
    "if item_count > 5:\n",
    "    total_price *= 0.85\n",
    "print(\"Total price: $\", total_price)"
   ]
  },
  {
   "cell_type": "markdown",
   "id": "445c3743-e21a-4569-a3f4-0181a3e54d1b",
   "metadata": {},
   "source": [
    "###  Membership Discount"
   ]
  },
  {
   "cell_type": "code",
   "execution_count": 9,
   "id": "48b55a9a-8563-4eb2-abe5-b52655cc8e20",
   "metadata": {},
   "outputs": [
    {
     "name": "stdin",
     "output_type": "stream",
     "text": [
      "Is the customer a member? (yes/no):  yes\n",
      "Enter price: $ 2000\n"
     ]
    },
    {
     "name": "stdout",
     "output_type": "stream",
     "text": [
      "Discounted price: $ 1600.0\n"
     ]
    }
   ],
   "source": [
    "# Membership Discount\n",
    "is_member = input(\"Is the customer a member? (yes/no): \").lower() == 'yes'\n",
    "price = float(input(\"Enter price: $\"))\n",
    "if is_member:\n",
    "    price *= 0.80\n",
    "else:\n",
    "    price *= 0.95\n",
    "print(\"Discounted price: $\", price)\n"
   ]
  },
  {
   "cell_type": "markdown",
   "id": "22b0cc04-eca0-44f6-a52f-fbb8d6894882",
   "metadata": {},
   "source": [
    "###  Seasonal Sale"
   ]
  },
  {
   "cell_type": "code",
   "execution_count": 10,
   "id": "78e6ee1a-0f6a-4149-bf04-d0dfe11766bd",
   "metadata": {},
   "outputs": [
    {
     "name": "stdin",
     "output_type": "stream",
     "text": [
      "Is today a holiday? (yes/no):  yes\n",
      "Enter price: $ 28\n"
     ]
    },
    {
     "name": "stdout",
     "output_type": "stream",
     "text": [
      "Price after discount: $ 21.0\n"
     ]
    }
   ],
   "source": [
    "# Seasonal Sale\n",
    "is_holiday = input(\"Is today a holiday? (yes/no): \").lower() == 'yes'\n",
    "price = float(input(\"Enter price: $\"))\n",
    "if is_holiday:\n",
    "    price *= 0.75\n",
    "else:\n",
    "    price *= 0.90\n",
    "print(\"Price after discount: $\", price)"
   ]
  },
  {
   "cell_type": "markdown",
   "id": "98ddd000-f2c2-4301-9008-dfa6688d6277",
   "metadata": {},
   "source": [
    "### Buy-One-Get-One-Free"
   ]
  },
  {
   "cell_type": "code",
   "execution_count": 13,
   "id": "5c3f1d36-841b-41e7-8379-7ceb72d9b306",
   "metadata": {},
   "outputs": [
    {
     "name": "stdin",
     "output_type": "stream",
     "text": [
      "Enter number of items:  2\n"
     ]
    },
    {
     "name": "stdout",
     "output_type": "stream",
     "text": [
      "Items to pay for: 1\n"
     ]
    }
   ],
   "source": [
    "# Buy-One-Get-One-Free\n",
    "items = int(input(\"Enter number of items: \"))\n",
    "if items % 2 == 0:\n",
    "    pay_for = items // 2\n",
    "else:\n",
    "    pay_for = items\n",
    "print(\"Items to pay for:\", pay_for)"
   ]
  },
  {
   "cell_type": "markdown",
   "id": "63e257db-4d42-450f-bf4f-ea32e2eb329a",
   "metadata": {},
   "source": [
    "## B- Tax Calculations"
   ]
  },
  {
   "cell_type": "markdown",
   "id": "2eb96b99-b228-4bcf-8f7d-6320a4c896a1",
   "metadata": {},
   "source": [
    "### Sales Tax"
   ]
  },
  {
   "cell_type": "code",
   "execution_count": 14,
   "id": "99c0a9ed-1a9d-46e2-9ce6-83f621f69c8d",
   "metadata": {},
   "outputs": [
    {
     "name": "stdin",
     "output_type": "stream",
     "text": [
      "Enter item price: $ 12\n"
     ]
    },
    {
     "name": "stdout",
     "output_type": "stream",
     "text": [
      "Total price after tax: $ 12.96\n"
     ]
    }
   ],
   "source": [
    "# Sales Tax\n",
    "price = float(input(\"Enter item price: $\"))\n",
    "if price > 500:\n",
    "    price *= 1.15\n",
    "else:\n",
    "    price *= 1.08\n",
    "print(\"Total price after tax: $\", price)"
   ]
  },
  {
   "cell_type": "markdown",
   "id": "c32f87f5-19b5-46af-8eda-d49d7ea95eea",
   "metadata": {},
   "source": [
    "### Income Tax"
   ]
  },
  {
   "cell_type": "code",
   "execution_count": 15,
   "id": "c3344b8a-7ec2-4833-a166-606803770833",
   "metadata": {},
   "outputs": [
    {
     "name": "stdin",
     "output_type": "stream",
     "text": [
      "Enter annual income: $ 3\n"
     ]
    },
    {
     "name": "stdout",
     "output_type": "stream",
     "text": [
      "Tax amount: $ 0.30000000000000004\n"
     ]
    }
   ],
   "source": [
    "# Income Tax\n",
    "income = float(input(\"Enter annual income: $\"))\n",
    "if income > 50000:\n",
    "    tax = income * 0.20\n",
    "else:\n",
    "    tax = income * 0.10\n",
    "print(\"Tax amount: $\", tax)"
   ]
  },
  {
   "cell_type": "markdown",
   "id": "2828af53-e98f-4448-b882-79e55c8307c7",
   "metadata": {},
   "source": [
    "### Tax Bracket"
   ]
  },
  {
   "cell_type": "code",
   "execution_count": 16,
   "id": "36ddaa94-a246-4801-8d50-f3655f1c8307",
   "metadata": {},
   "outputs": [
    {
     "name": "stdin",
     "output_type": "stream",
     "text": [
      "Enter annual income: $ 1233\n"
     ]
    },
    {
     "name": "stdout",
     "output_type": "stream",
     "text": [
      "Tax bracket: Low Tax\n"
     ]
    }
   ],
   "source": [
    "# Tax Bracket\n",
    "income = float(input(\"Enter annual income: $\"))\n",
    "if income < 30000:\n",
    "    print(\"Tax bracket: Low Tax\")\n",
    "elif income < 100000:\n",
    "    print(\"Tax bracket: Medium Tax\")\n",
    "else:\n",
    "    print(\"Tax bracket: High Tax\")"
   ]
  },
  {
   "cell_type": "markdown",
   "id": "68d6d499-edfb-417b-9691-e36250df08f8",
   "metadata": {},
   "source": [
    "### VAT Calculation"
   ]
  },
  {
   "cell_type": "code",
   "execution_count": 17,
   "id": "995e1fb8-63f2-436e-bb07-20e88a9c7b6c",
   "metadata": {},
   "outputs": [
    {
     "name": "stdin",
     "output_type": "stream",
     "text": [
      "Is the item essential? (yes/no):  yes\n",
      "Enter price: $ 1213\n"
     ]
    },
    {
     "name": "stdout",
     "output_type": "stream",
     "text": [
      "Final price: $ 1273.65\n"
     ]
    }
   ],
   "source": [
    "# VAT Calculation\n",
    "is_essential = input(\"Is the item essential? (yes/no): \").lower() == 'yes'\n",
    "price = float(input(\"Enter price: $\"))\n",
    "if is_essential:\n",
    "    price *= 1.05\n",
    "else:\n",
    "    price *= 1.12\n",
    "print(\"Final price: $\", price)"
   ]
  },
  {
   "cell_type": "markdown",
   "id": "1ad9eb89-1059-4f6b-bd2f-b2451f5ec482",
   "metadata": {},
   "source": [
    "### Tax-Free Day"
   ]
  },
  {
   "cell_type": "code",
   "execution_count": 21,
   "id": "a34d5b34-c1fd-495e-a9bf-27323f952c49",
   "metadata": {},
   "outputs": [
    {
     "name": "stdin",
     "output_type": "stream",
     "text": [
      "Is today a tax-free day? (yes/no):  yes\n",
      "Enter price: $ 3000\n"
     ]
    },
    {
     "name": "stdout",
     "output_type": "stream",
     "text": [
      "Total price: $ 3000.0\n"
     ]
    }
   ],
   "source": [
    "# Tax-Free Day\n",
    "tax_free = input(\"Is today a tax-free day? (yes/no): \").lower() == 'yes'\n",
    "price = float(input(\"Enter price: $\"))\n",
    "if not tax_free:\n",
    "    price *= 1.07\n",
    "print(\"Total price: $\", price)"
   ]
  },
  {
   "cell_type": "markdown",
   "id": "163cb460-9ce3-4174-bb9c-dbbcbc425042",
   "metadata": {},
   "source": [
    "## Shopping and Billing"
   ]
  },
  {
   "cell_type": "markdown",
   "id": "6a2bf03e-e500-48dd-8b5a-f06190a90cbf",
   "metadata": {},
   "source": [
    "### Free Shipping"
   ]
  },
  {
   "cell_type": "code",
   "execution_count": 22,
   "id": "8861f611-33a8-4fff-ab7a-1acf635b14a3",
   "metadata": {},
   "outputs": [
    {
     "name": "stdin",
     "output_type": "stream",
     "text": [
      "Enter total purchase amount: $ 100\n"
     ]
    },
    {
     "name": "stdout",
     "output_type": "stream",
     "text": [
      "Free shipping applied.\n",
      "Total amount: $ 100.0\n"
     ]
    }
   ],
   "source": [
    "# Free Shipping\n",
    "purchase_amount = float(input(\"Enter total purchase amount: $\"))\n",
    "if purchase_amount > 50:\n",
    "    print(\"Free shipping applied.\")\n",
    "else:\n",
    "    purchase_amount += 5\n",
    "print(\"Total amount: $\", purchase_amount)"
   ]
  },
  {
   "cell_type": "markdown",
   "id": "b1459177-726f-444f-8e90-b69fecca7b4c",
   "metadata": {},
   "source": [
    "### Discount Code"
   ]
  },
  {
   "cell_type": "code",
   "execution_count": 23,
   "id": "10f245d0-9424-4d33-923b-f2f990e65413",
   "metadata": {},
   "outputs": [
    {
     "name": "stdin",
     "output_type": "stream",
     "text": [
      "Enter discount code:  dajshndj\n",
      "Enter price: $ 300\n"
     ]
    },
    {
     "name": "stdout",
     "output_type": "stream",
     "text": [
      "Total amount: $ 300.0\n"
     ]
    }
   ],
   "source": [
    "# Discount Code\n",
    "code = input(\"Enter discount code: \")\n",
    "price = float(input(\"Enter price: $\"))\n",
    "if code == \"DISCOUNT10\":\n",
    "    price *= 0.90\n",
    "print(\"Total amount: $\", price)\n"
   ]
  },
  {
   "cell_type": "markdown",
   "id": "fe403b37-98a9-45d6-bfde-47e5484665b0",
   "metadata": {},
   "source": [
    "### Tiered Discounts"
   ]
  },
  {
   "cell_type": "code",
   "execution_count": 24,
   "id": "dfc38727-4a5b-4700-85f7-712ba5fa0c6e",
   "metadata": {},
   "outputs": [
    {
     "name": "stdin",
     "output_type": "stream",
     "text": [
      "Enter total price: $ 100\n"
     ]
    },
    {
     "name": "stdout",
     "output_type": "stream",
     "text": [
      "Final amount: $ 90.0\n"
     ]
    }
   ],
   "source": [
    "# Tiered Discounts\n",
    "total_price = float(input(\"Enter total price: $\"))\n",
    "if total_price <= 50:\n",
    "    print(\"No discount.\")\n",
    "elif total_price <= 100:\n",
    "    total_price *= 0.90\n",
    "else:\n",
    "    total_price *= 0.80\n",
    "print(\"Final amount: $\", total_price)"
   ]
  },
  {
   "cell_type": "markdown",
   "id": "4682a93e-d708-4800-8540-52c50d4ca8fc",
   "metadata": {},
   "source": [
    "### Minimum Purchase Requirement"
   ]
  },
  {
   "cell_type": "code",
   "execution_count": 25,
   "id": "34edd744-9d28-4bc0-a9a2-7df374358284",
   "metadata": {},
   "outputs": [
    {
     "name": "stdin",
     "output_type": "stream",
     "text": [
      "Enter total amount: $ 100\n"
     ]
    },
    {
     "name": "stdout",
     "output_type": "stream",
     "text": [
      "Total amount: $ 100.0\n"
     ]
    }
   ],
   "source": [
    "# Minimum Purchase Requirement\n",
    "total_amount = float(input(\"Enter total amount: $\"))\n",
    "if total_amount < 20:\n",
    "    print(\"Minimum purchase of $20 is required.\")\n",
    "else:\n",
    "    print(\"Total amount: $\", total_amount)"
   ]
  },
  {
   "cell_type": "markdown",
   "id": "fcca796d-906c-4280-9476-1d42b09bb2d4",
   "metadata": {},
   "source": [
    "### Loyalty Points"
   ]
  },
  {
   "cell_type": "code",
   "execution_count": 26,
   "id": "ec7662f3-6fb3-4dd3-a1eb-e25ad2a2a2cd",
   "metadata": {},
   "outputs": [
    {
     "name": "stdin",
     "output_type": "stream",
     "text": [
      "Is the customer a loyal member? (yes/no):  yes\n",
      "Enter purchase points:  100\n"
     ]
    },
    {
     "name": "stdout",
     "output_type": "stream",
     "text": [
      "Loyalty points earned: 200\n"
     ]
    }
   ],
   "source": [
    "# Loyalty Points\n",
    "is_loyal = input(\"Is the customer a loyal member? (yes/no): \").lower() == 'yes'\n",
    "points = int(input(\"Enter purchase points: \"))\n",
    "if is_loyal:\n",
    "    points *= 2\n",
    "print(\"Loyalty points earned:\", points)\n"
   ]
  },
  {
   "cell_type": "markdown",
   "id": "4af505cc-6bbf-4e35-ace7-965bafe199fd",
   "metadata": {},
   "source": [
    "## Travel and Tickets"
   ]
  },
  {
   "cell_type": "markdown",
   "id": "8638e934-f665-4f82-81b4-66ccf4225743",
   "metadata": {},
   "source": [
    "### Travel Discount"
   ]
  },
  {
   "cell_type": "code",
   "execution_count": 27,
   "id": "03f465c2-7d9a-4f01-bd77-963a218406ac",
   "metadata": {},
   "outputs": [
    {
     "name": "stdin",
     "output_type": "stream",
     "text": [
      "Enter travel distance (miles):  1000\n",
      "Enter ticket price: $ 3000\n"
     ]
    },
    {
     "name": "stdout",
     "output_type": "stream",
     "text": [
      "Ticket price: $ 2400.0\n"
     ]
    }
   ],
   "source": [
    "# Travel Discount\n",
    "distance = float(input(\"Enter travel distance (miles): \"))\n",
    "price = float(input(\"Enter ticket price: $\"))\n",
    "if distance > 500:\n",
    "    price *= 0.80\n",
    "print(\"Ticket price: $\", price)"
   ]
  },
  {
   "cell_type": "markdown",
   "id": "d034bb2a-3a27-4536-b83b-2667c92a3f48",
   "metadata": {},
   "source": [
    "### Child or Senior Discount"
   ]
  },
  {
   "cell_type": "code",
   "execution_count": 29,
   "id": "be7f8faf-9c33-4a6a-b659-c2dccf032c6c",
   "metadata": {},
   "outputs": [
    {
     "name": "stdin",
     "output_type": "stream",
     "text": [
      "Enter passenger age:  14\n",
      "Enter ticket price: $ 4000\n"
     ]
    },
    {
     "name": "stdout",
     "output_type": "stream",
     "text": [
      "Ticket price: $ 4000.0\n"
     ]
    }
   ],
   "source": [
    "# Child or Senior Discount\n",
    "age = int(input(\"Enter passenger age: \"))\n",
    "price = float(input(\"Enter ticket price: $\"))\n",
    "if age < 12 or age > 60:\n",
    "    price *= 0.85\n",
    "print(\"Ticket price: $\", price)"
   ]
  },
  {
   "cell_type": "markdown",
   "id": "d7ecb608-9a26-4fa7-afc5-840457a2b2c0",
   "metadata": {},
   "source": [
    "### Ticket Type Pricing"
   ]
  },
  {
   "cell_type": "code",
   "execution_count": 30,
   "id": "deaf5352-5c65-48c1-b6ae-99ebcc942a17",
   "metadata": {},
   "outputs": [
    {
     "name": "stdin",
     "output_type": "stream",
     "text": [
      "Is the ticket for a weekend? (yes/no):  yes\n",
      "Enter ticket price: $ 1200\n"
     ]
    },
    {
     "name": "stdout",
     "output_type": "stream",
     "text": [
      "Ticket price: $ 1320.0\n"
     ]
    }
   ],
   "source": [
    "# Ticket Type Pricing\n",
    "is_weekend = input(\"Is the ticket for a weekend? (yes/no): \").lower() == 'yes'\n",
    "price = float(input(\"Enter ticket price: $\"))\n",
    "if is_weekend:\n",
    "    price *= 1.10\n",
    "print(\"Ticket price: $\", price)"
   ]
  },
  {
   "cell_type": "markdown",
   "id": "e66ee35a-ea93-4cbf-b3e1-59f5d7635139",
   "metadata": {},
   "source": [
    "### Baggage Fee"
   ]
  },
  {
   "cell_type": "code",
   "execution_count": 31,
   "id": "7b47142a-645e-45be-b418-1631d378c770",
   "metadata": {},
   "outputs": [
    {
     "name": "stdin",
     "output_type": "stream",
     "text": [
      "Enter baggage weight (kg):  70\n"
     ]
    },
    {
     "name": "stdout",
     "output_type": "stream",
     "text": [
      "Extra baggage fee: $ 500.0\n"
     ]
    }
   ],
   "source": [
    "# Baggage Fee\n",
    "weight = float(input(\"Enter baggage weight (kg): \"))\n",
    "if weight > 20:\n",
    "    extra_fee = (weight - 20) * 10\n",
    "    print(\"Extra baggage fee: $\", extra_fee)\n",
    "else:\n",
    "    print(\"No extra fee.\")"
   ]
  },
  {
   "cell_type": "markdown",
   "id": "5797d0ff-06b2-45b7-bd35-f081d9e0605d",
   "metadata": {},
   "source": [
    "### Early Bird Discount"
   ]
  },
  {
   "cell_type": "code",
   "execution_count": 32,
   "id": "1685ecb5-ba0b-429b-b137-ef183bea032c",
   "metadata": {},
   "outputs": [
    {
     "name": "stdin",
     "output_type": "stream",
     "text": [
      "Enter days before travel:  3\n",
      "Enter ticket price: $ 1000\n"
     ]
    },
    {
     "name": "stdout",
     "output_type": "stream",
     "text": [
      "Ticket price: $ 1000.0\n"
     ]
    }
   ],
   "source": [
    "# Early Bird Discount\n",
    "days_advance = int(input(\"Enter days before travel: \"))\n",
    "price = float(input(\"Enter ticket price: $\"))\n",
    "if days_advance > 30:\n",
    "    price *= 0.90\n",
    "print(\"Ticket price: $\", price)"
   ]
  },
  {
   "cell_type": "markdown",
   "id": "210b7528-72ce-493f-86af-876eee9ead6b",
   "metadata": {},
   "source": [
    "## Grades and Performance"
   ]
  },
  {
   "cell_type": "markdown",
   "id": "3961bf8a-e2b4-4101-8b27-8765b252cb1b",
   "metadata": {},
   "source": [
    "### Pass or Fail"
   ]
  },
  {
   "cell_type": "code",
   "execution_count": 33,
   "id": "fef06b30-ddf6-48b5-9841-12ad34bee052",
   "metadata": {},
   "outputs": [
    {
     "name": "stdin",
     "output_type": "stream",
     "text": [
      "Enter student score:  99\n"
     ]
    },
    {
     "name": "stdout",
     "output_type": "stream",
     "text": [
      "Pass\n"
     ]
    }
   ],
   "source": [
    "# Pass or Fail\n",
    "score = int(input(\"Enter student score: \"))\n",
    "if score >= 40:\n",
    "    print(\"Pass\")\n",
    "else:\n",
    "    print(\"Fail\")"
   ]
  },
  {
   "cell_type": "markdown",
   "id": "44bc552c-5231-4ada-8b01-57249af1df27",
   "metadata": {},
   "source": [
    "### Grade Assignment"
   ]
  },
  {
   "cell_type": "code",
   "execution_count": 34,
   "id": "cf30df95-c340-497d-9156-12c33d9545d3",
   "metadata": {},
   "outputs": [
    {
     "name": "stdin",
     "output_type": "stream",
     "text": [
      "Enter student score:  12\n"
     ]
    },
    {
     "name": "stdout",
     "output_type": "stream",
     "text": [
      "Grade: F\n"
     ]
    }
   ],
   "source": [
    "# Grade Assignment\n",
    "score = int(input(\"Enter student score: \"))\n",
    "if score >= 90:\n",
    "    print(\"Grade: A\")\n",
    "elif score >= 75:\n",
    "    print(\"Grade: B\")\n",
    "elif score >= 50:\n",
    "    print(\"Grade: C\")\n",
    "else:\n",
    "    print(\"Grade: F\")"
   ]
  },
  {
   "cell_type": "markdown",
   "id": "8f97791f-6cb9-4ac7-b5b1-6d88c5bdbe12",
   "metadata": {},
   "source": [
    "### Bonus Marks"
   ]
  },
  {
   "cell_type": "code",
   "execution_count": 35,
   "id": "bfdbff68-6208-4186-8dab-30efcc2d42f8",
   "metadata": {},
   "outputs": [
    {
     "name": "stdin",
     "output_type": "stream",
     "text": [
      "Did the student complete all assignments? (yes/no):  no\n",
      "Enter student score:  50\n"
     ]
    },
    {
     "name": "stdout",
     "output_type": "stream",
     "text": [
      "Final score: 50\n"
     ]
    }
   ],
   "source": [
    "# Bonus Marks\n",
    "completed_assignments = input(\"Did the student complete all assignments? (yes/no): \").lower() == 'yes'\n",
    "score = int(input(\"Enter student score: \"))\n",
    "if completed_assignments:\n",
    "    score += 5\n",
    "print(\"Final score:\", score)"
   ]
  },
  {
   "cell_type": "markdown",
   "id": "4d72a9f3-4d65-42b4-b285-2e406b736060",
   "metadata": {},
   "source": [
    "### Attendance Eligibility"
   ]
  },
  {
   "cell_type": "code",
   "execution_count": 36,
   "id": "d4ab5b63-0324-44f0-8428-6d7a42ea6174",
   "metadata": {},
   "outputs": [
    {
     "name": "stdin",
     "output_type": "stream",
     "text": [
      "Enter attendance percentage:  78\n"
     ]
    },
    {
     "name": "stdout",
     "output_type": "stream",
     "text": [
      "Eligible for exam\n"
     ]
    }
   ],
   "source": [
    "# Attendance Eligibility\n",
    "attendance = float(input(\"Enter attendance percentage: \"))\n",
    "if attendance >= 75:\n",
    "    print(\"Eligible for exam\")\n",
    "else:\n",
    "    print(\"Not eligible for exam\")"
   ]
  },
  {
   "cell_type": "markdown",
   "id": "12f87ebe-681f-45ba-b1f5-ad8727048011",
   "metadata": {},
   "source": [
    "### Scholarship Eligibility"
   ]
  },
  {
   "cell_type": "code",
   "execution_count": 37,
   "id": "ba6380fd-559f-455b-a799-0d2552c5164f",
   "metadata": {},
   "outputs": [
    {
     "name": "stdin",
     "output_type": "stream",
     "text": [
      "Enter student grade:  A\n",
      "Enter family income: $ 20\n"
     ]
    },
    {
     "name": "stdout",
     "output_type": "stream",
     "text": [
      "Eligible for scholarship\n"
     ]
    }
   ],
   "source": [
    "# Scholarship Eligibility\n",
    "grade = input(\"Enter student grade: \")\n",
    "family_income = float(input(\"Enter family income: $\"))\n",
    "if grade == 'A' and family_income < 30000:\n",
    "    print(\"Eligible for scholarship\")\n",
    "else:\n",
    "    print(\"Not eligible for scholarship\")"
   ]
  },
  {
   "cell_type": "code",
   "execution_count": null,
   "id": "a910544e-8f18-4ca2-ab0b-7d984cca512b",
   "metadata": {},
   "outputs": [],
   "source": []
  }
 ],
 "metadata": {
  "kernelspec": {
   "display_name": "Python 3 (ipykernel)",
   "language": "python",
   "name": "python3"
  },
  "language_info": {
   "codemirror_mode": {
    "name": "ipython",
    "version": 3
   },
   "file_extension": ".py",
   "mimetype": "text/x-python",
   "name": "python",
   "nbconvert_exporter": "python",
   "pygments_lexer": "ipython3",
   "version": "3.12.7"
  }
 },
 "nbformat": 4,
 "nbformat_minor": 5
}
