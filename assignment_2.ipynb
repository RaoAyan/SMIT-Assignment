{
 "cells": [
  {
   "cell_type": "markdown",
   "id": "6f4f296a-184a-4f14-9466-460442fcb681",
   "metadata": {},
   "source": [
    "Questions:\n",
    "1) Area of a Rectangle:\n",
    "Write a Python program to calculate the area of a rectangle. Use the formula:\n",
    "\n",
    "Area = length × width\n",
    "\n",
    "Take length and width as inputs from the user."
   ]
  },
  {
   "cell_type": "code",
   "execution_count": 2,
   "id": "8e271f9a-b76e-4da0-ace9-e711dd135473",
   "metadata": {},
   "outputs": [
    {
     "name": "stdin",
     "output_type": "stream",
     "text": [
      "Enter the length of the Rectangle:  14.4\n",
      "Enter the width of the Rectangle:  12.4\n"
     ]
    },
    {
     "name": "stdout",
     "output_type": "stream",
     "text": [
      "The area of the rectangle is:  178.56\n"
     ]
    }
   ],
   "source": [
    "#Taking length and width as inputs from the user\n",
    "length = float(input(\"Enter the length of the Rectangle: \"))\n",
    "width = float(input(\"Enter the width of the Rectangle: \"))\n",
    "\n",
    "#Calculating The Rectangle\n",
    "area = length * width\n",
    "\n",
    "#Result\n",
    "print(\"The area of the rectangle is: \", area)"
   ]
  },
  {
   "cell_type": "markdown",
   "id": "28429c98-5dc8-4644-911b-274f714330fb",
   "metadata": {},
   "source": [
    "2) Circumference of a Circle:\n",
    "Write a Python program to calculate the circumference of a circle. Use the formula:\n",
    "\n",
    "Circumference = 2πr\n",
    "\n",
    "Take the radius r as input from the user."
   ]
  },
  {
   "cell_type": "code",
   "execution_count": 5,
   "id": "43978a92-afaf-4be6-af5d-537577423a93",
   "metadata": {},
   "outputs": [
    {
     "name": "stdin",
     "output_type": "stream",
     "text": [
      "Enter The Value 14\n"
     ]
    },
    {
     "name": "stdout",
     "output_type": "stream",
     "text": [
      "The Circumference of Circle:  87.96459430052\n"
     ]
    }
   ],
   "source": [
    "#Make the Variables and Takes the r value from User\n",
    "pi = 3.14159265359\n",
    "radius = float(input(\"Enter The Value\"))\n",
    "\n",
    "#Formula For Circumference\n",
    "circumference = 2 * pi * radius\n",
    "\n",
    "#Result\n",
    "print(\"The Circumference of Circle: \", circumference)"
   ]
  },
  {
   "cell_type": "markdown",
   "id": "83add1ff-f376-454b-b387-cf645be4d949",
   "metadata": {},
   "source": [
    "3) Simple Interest:\n",
    "Write a Python program to calculate the simple interest. Use the formula:\n",
    "Simple Interest = Principal × Rate × Time\n",
    "\n",
    "Take Principal, Rate, and Time as inputs from the user."
   ]
  },
  {
   "cell_type": "code",
   "execution_count": 6,
   "id": "94ea308e-1714-437b-b82b-f0809f7e4a52",
   "metadata": {},
   "outputs": [
    {
     "name": "stdin",
     "output_type": "stream",
     "text": [
      "Enter the Principal Amount:  200000\n",
      "Enter the rate of interest(In Percentage):  12\n",
      "Enter the time period (in years):  10\n"
     ]
    },
    {
     "name": "stdout",
     "output_type": "stream",
     "text": [
      "The simple interest is:  240000.0\n"
     ]
    }
   ],
   "source": [
    "#Taking Principal, Rate, and Time as inputs\n",
    "principal = float(input(\"Enter the Principal Amount: \"))\n",
    "rate = float(input(\"Enter the rate of interest(In Percentage): \"))\n",
    "time = float(input(\"Enter the time period (in years): \"))\n",
    "\n",
    "#Calculating Simple Interest\n",
    "simple_interest = (principal*rate*time)/100\n",
    "\n",
    "#Displaying the result\n",
    "print(\"The simple interest is: \",simple_interest)"
   ]
  },
  {
   "cell_type": "code",
   "execution_count": 5,
   "id": "6f05a711-eeeb-4832-a717-cdfa59933e01",
   "metadata": {},
   "outputs": [
    {
     "name": "stdin",
     "output_type": "stream",
     "text": [
      "Enter your weight in kilograms (kg):  52\n",
      "Enter your height in centimeters (cm):  182\n"
     ]
    },
    {
     "name": "stdout",
     "output_type": "stream",
     "text": [
      "Your Body Mass Index (BMI) is: 15.70\n"
     ]
    }
   ],
   "source": [
    "# BMI Calculator\n",
    "\n",
    "# Take weight input from the user\n",
    "weight = float(input(\"Enter your weight in kilograms (kg): \"))\n",
    "\n",
    "# Take height input from the user\n",
    "height_cm = float(input(\"Enter your height in centimeters (cm): \"))\n",
    "\n",
    "# Convert height from cm to meters\n",
    "height_m = height_cm / 100\n",
    "\n",
    "# Calculate BMI\n",
    "bmi = weight / (height_m ** 2)\n",
    "\n",
    "# Display the result\n",
    "print(f\"Your Body Mass Index (BMI) is: {bmi:.2f}\")"
   ]
  },
  {
   "cell_type": "markdown",
   "id": "be20a9af-9fec-4844-ace8-e2dbe1141179",
   "metadata": {},
   "source": [
    "6) Force Using Newton's Second Law:\n",
    "Write a Python program to calculate the force on an object. Use the formula:\n",
    "Take m (mass in kilograms) and a (acceleration in meters/second²) as inputs from the\n",
    "user. "
   ]
  },
  {
   "cell_type": "code",
   "execution_count": 6,
   "id": "5d3648af-88bb-4fa7-b415-30f2943e9193",
   "metadata": {},
   "outputs": [
    {
     "name": "stdin",
     "output_type": "stream",
     "text": [
      "Enter the Mass of the object in kilograms (kg):  60\n",
      "Enter the acceleration of object:  10\n"
     ]
    },
    {
     "name": "stdout",
     "output_type": "stream",
     "text": [
      "The force of the object is 600.00 Newton(N)\n"
     ]
    }
   ],
   "source": [
    "#Take mass and acceleration input from user\n",
    "mass_kgs = float(input(\"Enter the Mass of the object in kilograms (kg): \"))\n",
    "acceleration = float(input(\"Enter the acceleration of object: \"))\n",
    "\n",
    "#Calculate Force\n",
    "force = mass_kgs * acceleration\n",
    "\n",
    "#Display the result\n",
    "print(f\"The force of the object is {force:.2f} Newton(N)\")"
   ]
  },
  {
   "cell_type": "markdown",
   "id": "473bfa25-b362-4ad3-bbe1-b0a75a0e94c1",
   "metadata": {},
   "source": [
    "7) Compound Interest: "
   ]
  },
  {
   "cell_type": "code",
   "execution_count": 2,
   "id": "0e6046b9-9c70-40fe-8d56-50b5de267544",
   "metadata": {},
   "outputs": [
    {
     "name": "stdin",
     "output_type": "stream",
     "text": [
      "Enter the Principal Amount:  20000\n",
      "Enter the Annual Interest Rate (in Percentage):  12\n",
      "Enter the time period (in years):  5\n",
      "Enter the number of times interest is compounded per year (n):  3\n"
     ]
    },
    {
     "name": "stdout",
     "output_type": "stream",
     "text": [
      "22492.280000000002\n"
     ]
    }
   ],
   "source": [
    "# Take P,r,n and t as input from the user\n",
    "p = float(input(\"Enter the Principal Amount: \"))\n",
    "r = float(input(\"Enter the Annual Interest Rate (in Percentage): \")) / 100 #to covert in decimal\n",
    "t = float(input(\"Enter the time period (in years): \"))\n",
    "n = int(input(\"Enter the number of times interest is compounded per year (n): \"))\n",
    "\n",
    "#Calculate the total amount using the interest\n",
    "a = p*(1+r/n)**n-t\n",
    "\n",
    "#Display the Result\n",
    "print(a)"
   ]
  },
  {
   "cell_type": "code",
   "execution_count": null,
   "id": "6131dd58-fd0a-41b8-bc47-3b80173b8456",
   "metadata": {},
   "outputs": [],
   "source": []
  }
 ],
 "metadata": {
  "kernelspec": {
   "display_name": "Python 3 (ipykernel)",
   "language": "python",
   "name": "python3"
  },
  "language_info": {
   "codemirror_mode": {
    "name": "ipython",
    "version": 3
   },
   "file_extension": ".py",
   "mimetype": "text/x-python",
   "name": "python",
   "nbconvert_exporter": "python",
   "pygments_lexer": "ipython3",
   "version": "3.12.7"
  }
 },
 "nbformat": 4,
 "nbformat_minor": 5
}
