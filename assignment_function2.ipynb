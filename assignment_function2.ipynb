{
 "cells": [
  {
   "cell_type": "code",
   "execution_count": 33,
   "id": "fa665082-2487-4f5f-b113-238ff3afeeed",
   "metadata": {},
   "outputs": [],
   "source": [
    "# Task 1: Numbers divisible by 7 but not by 5\n",
    "def divisible_by_7_not_5():\n",
    "    result = [str(i) for i in range(2000, 3201) if i % 7 == 0 and i % 5 != 0]\n",
    "    return \",\".join(result)"
   ]
  },
  {
   "cell_type": "code",
   "execution_count": 34,
   "id": "57c8c40e-ce67-416c-b52a-66f9ec60c770",
   "metadata": {},
   "outputs": [
    {
     "name": "stdout",
     "output_type": "stream",
     "text": [
      "2002,2009,2016,2023,2037,2044,2051,2058,2072,2079,2086,2093,2107,2114,2121,2128,2142,2149,2156,2163,2177,2184,2191,2198,2212,2219,2226,2233,2247,2254,2261,2268,2282,2289,2296,2303,2317,2324,2331,2338,2352,2359,2366,2373,2387,2394,2401,2408,2422,2429,2436,2443,2457,2464,2471,2478,2492,2499,2506,2513,2527,2534,2541,2548,2562,2569,2576,2583,2597,2604,2611,2618,2632,2639,2646,2653,2667,2674,2681,2688,2702,2709,2716,2723,2737,2744,2751,2758,2772,2779,2786,2793,2807,2814,2821,2828,2842,2849,2856,2863,2877,2884,2891,2898,2912,2919,2926,2933,2947,2954,2961,2968,2982,2989,2996,3003,3017,3024,3031,3038,3052,3059,3066,3073,3087,3094,3101,3108,3122,3129,3136,3143,3157,3164,3171,3178,3192,3199\n"
     ]
    }
   ],
   "source": [
    "print(divisible_by_7_not_5())"
   ]
  },
  {
   "cell_type": "code",
   "execution_count": 35,
   "id": "5ca68e14-fb62-4519-b76a-23d207dcde81",
   "metadata": {},
   "outputs": [],
   "source": [
    "# Task 2: Calculate P = sqrt((2 * A * B)/C)\n",
    "import math\n",
    "def calculate_p(c_values):\n",
    "    A = 50\n",
    "    B = 30\n",
    "    results = [str(int(math.sqrt((2 * A * B) / int(c)))) for c in c_values]\n",
    "    return \",\".join(results)"
   ]
  },
  {
   "cell_type": "code",
   "execution_count": 36,
   "id": "20bc5d26-bf8c-4f98-a78d-8b29f2369693",
   "metadata": {},
   "outputs": [
    {
     "name": "stdout",
     "output_type": "stream",
     "text": [
      "5,4,4\n"
     ]
    }
   ],
   "source": [
    "print(calculate_p([100, 150, 180]))"
   ]
  },
  {
   "cell_type": "code",
   "execution_count": 37,
   "id": "dbe41053-5f69-4f97-9c71-00f7a74bb97f",
   "metadata": {},
   "outputs": [],
   "source": [
    "# Task 3: Sort words alphabetically\n",
    "def sort_words(words):\n",
    "    return \",\".join(sorted(words))"
   ]
  },
  {
   "cell_type": "code",
   "execution_count": 38,
   "id": "3326134f-4c0d-4a98-9b9e-ea4db6a4a28a",
   "metadata": {},
   "outputs": [
    {
     "name": "stdout",
     "output_type": "stream",
     "text": [
      "bag,hello,without,world\n"
     ]
    }
   ],
   "source": [
    "print(sort_words(['without', 'hello', 'bag', 'world']))"
   ]
  },
  {
   "cell_type": "code",
   "execution_count": 39,
   "id": "2ef33205-30a0-462e-9705-a0774f15273c",
   "metadata": {},
   "outputs": [],
   "source": [
    "# Task 4: Capitalize all lines\n",
    "def capitalize_lines(lines):\n",
    "    return \"\\n\".join(line.upper() for line in lines)"
   ]
  },
  {
   "cell_type": "code",
   "execution_count": 40,
   "id": "58c4d9b1-4cb2-4fe8-8dcb-845861cfac85",
   "metadata": {},
   "outputs": [
    {
     "name": "stdout",
     "output_type": "stream",
     "text": [
      "HELLO WORLD\n",
      "PRACTICE MAKES PERFECT\n"
     ]
    }
   ],
   "source": [
    "print(capitalize_lines(['Hello world', 'Practice makes perfect']))"
   ]
  },
  {
   "cell_type": "code",
   "execution_count": 41,
   "id": "8bd1f98f-efdc-418b-9f35-33f5b3e571ca",
   "metadata": {},
   "outputs": [],
   "source": [
    "#Task 5: Count vowels in a sentence\n",
    "def count_vowels(sentence):\n",
    "    vowels = \"aeiou\"\n",
    "    counts = {v: sentence.lower().count(v) for v in vowels}\n",
    "    for vowel, count in counts.items():\n",
    "        print(f\"{vowel} appeared {count} time{'s' if count != 1 else ''}\")"
   ]
  },
  {
   "cell_type": "code",
   "execution_count": 42,
   "id": "ea6daa06-08b4-4dcc-99f9-bb608e75c41e",
   "metadata": {},
   "outputs": [
    {
     "name": "stdout",
     "output_type": "stream",
     "text": [
      "a appeared 2 times\n",
      "e appeared 5 times\n",
      "i appeared 1 time\n",
      "o appeared 2 times\n",
      "u appeared 0 times\n"
     ]
    }
   ],
   "source": [
    "count_vowels('Hello world Practice makes perfect')"
   ]
  },
  {
   "cell_type": "code",
   "execution_count": 43,
   "id": "b5934d60-5cd6-4ae3-a8e6-2bf5d848e886",
   "metadata": {},
   "outputs": [],
   "source": [
    "# Task 6: Numbers with all even digits\n",
    "def even_digit_numbers():\n",
    "    return [i for i in range(1000, 3001) if all(int(d) % 2 == 0 for d in str(i))]"
   ]
  },
  {
   "cell_type": "code",
   "execution_count": 44,
   "id": "dc6a3ede-79c1-4522-a4c2-72a3bfadea3e",
   "metadata": {},
   "outputs": [
    {
     "name": "stdout",
     "output_type": "stream",
     "text": [
      "[2000, 2002, 2004, 2006, 2008, 2020, 2022, 2024, 2026, 2028, 2040, 2042, 2044, 2046, 2048, 2060, 2062, 2064, 2066, 2068, 2080, 2082, 2084, 2086, 2088, 2200, 2202, 2204, 2206, 2208, 2220, 2222, 2224, 2226, 2228, 2240, 2242, 2244, 2246, 2248, 2260, 2262, 2264, 2266, 2268, 2280, 2282, 2284, 2286, 2288, 2400, 2402, 2404, 2406, 2408, 2420, 2422, 2424, 2426, 2428, 2440, 2442, 2444, 2446, 2448, 2460, 2462, 2464, 2466, 2468, 2480, 2482, 2484, 2486, 2488, 2600, 2602, 2604, 2606, 2608, 2620, 2622, 2624, 2626, 2628, 2640, 2642, 2644, 2646, 2648, 2660, 2662, 2664, 2666, 2668, 2680, 2682, 2684, 2686, 2688, 2800, 2802, 2804, 2806, 2808, 2820, 2822, 2824, 2826, 2828, 2840, 2842, 2844, 2846, 2848, 2860, 2862, 2864, 2866, 2868, 2880, 2882, 2884, 2886, 2888]\n"
     ]
    }
   ],
   "source": [
    "print(even_digit_numbers())"
   ]
  },
  {
   "cell_type": "code",
   "execution_count": 45,
   "id": "a095b0d4-c2a2-4641-a3e2-5e959b0719a5",
   "metadata": {},
   "outputs": [],
   "source": [
    "# Task 7: Check if binary numbers are divisible by 5\n",
    "def binary_divisible_by_5(binaries):\n",
    "    return \",\".join(b for b in binaries if int(b, 2) % 5 == 0)"
   ]
  },
  {
   "cell_type": "code",
   "execution_count": 46,
   "id": "8a86763f-51e8-4609-ade2-08bd5016a787",
   "metadata": {},
   "outputs": [
    {
     "name": "stdout",
     "output_type": "stream",
     "text": [
      "1010\n"
     ]
    }
   ],
   "source": [
    "print(binary_divisible_by_5(['0100', '0011', '1010', '1001']))"
   ]
  },
  {
   "cell_type": "code",
   "execution_count": 47,
   "id": "7469f693-9fd1-4d4c-a343-72314ce66ccd",
   "metadata": {},
   "outputs": [],
   "source": [
    "# Task 8: Count letters and digits\n",
    "def count_letters_digits(s):\n",
    "    letters = sum(c.isalpha() for c in s)\n",
    "    digits = sum(c.isdigit() for c in s)\n",
    "    print(\"LETTERS\", letters)\n",
    "    print(\"DIGITS\", digits)"
   ]
  },
  {
   "cell_type": "code",
   "execution_count": 48,
   "id": "e194627f-8f0d-4b5d-a87a-804523164e85",
   "metadata": {},
   "outputs": [
    {
     "name": "stdout",
     "output_type": "stream",
     "text": [
      "LETTERS 10\n",
      "DIGITS 3\n"
     ]
    }
   ],
   "source": [
    "count_letters_digits('hello world! 123')"
   ]
  },
  {
   "cell_type": "code",
   "execution_count": null,
   "id": "b806c76e-6104-4560-8069-77b0c43b0127",
   "metadata": {},
   "outputs": [],
   "source": []
  },
  {
   "cell_type": "code",
   "execution_count": null,
   "id": "b347e615-830f-4489-a39c-9e08d8b8ce10",
   "metadata": {},
   "outputs": [],
   "source": []
  },
  {
   "cell_type": "code",
   "execution_count": null,
   "id": "e392d9ab-33e1-462b-ab4a-455dbbd3b993",
   "metadata": {},
   "outputs": [],
   "source": []
  }
 ],
 "metadata": {
  "kernelspec": {
   "display_name": "Python 3 (ipykernel)",
   "language": "python",
   "name": "python3"
  },
  "language_info": {
   "codemirror_mode": {
    "name": "ipython",
    "version": 3
   },
   "file_extension": ".py",
   "mimetype": "text/x-python",
   "name": "python",
   "nbconvert_exporter": "python",
   "pygments_lexer": "ipython3",
   "version": "3.12.7"
  }
 },
 "nbformat": 4,
 "nbformat_minor": 5
}
