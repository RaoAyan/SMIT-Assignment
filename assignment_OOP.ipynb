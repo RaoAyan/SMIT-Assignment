{
 "cells": [
  {
   "cell_type": "code",
   "execution_count": 30,
   "id": "31a956b8-8dad-47c4-9479-7c9cb4162cc2",
   "metadata": {},
   "outputs": [
    {
     "name": "stdout",
     "output_type": "stream",
     "text": [
      "Name: Ayan, Age: 16, Country: Pakistan\n",
      "Name: Arfeen, Age: 18, Country: USA\n"
     ]
    }
   ],
   "source": [
    "# 1. Person Class\n",
    "class Person:\n",
    "    def __init__(self, name, age, country):\n",
    "        self.name = name\n",
    "        self.age = age\n",
    "        self.country = country\n",
    "\n",
    "    def display_details(self):\n",
    "        print(f\"Name: {self.name}, Age: {self.age}, Country: {self.country}\")\n",
    "\n",
    "person1 = Person(\"Ayan\", 16, \"Pakistan\")\n",
    "person2 = Person(\"Arfeen\", 18, \"USA\")\n",
    "\n",
    "person1.display_details()\n",
    "person2.display_details()"
   ]
  },
  {
   "cell_type": "code",
   "execution_count": 31,
   "id": "ea2e4745-949d-4687-8ac6-9b0394505be3",
   "metadata": {},
   "outputs": [
    {
     "name": "stdout",
     "output_type": "stream",
     "text": [
      "Area: 50\n",
      "Perimeter: 30\n"
     ]
    }
   ],
   "source": [
    "# 2. Rectangle Class\n",
    "class Rectangle:\n",
    "    def __init__(self, width, height):\n",
    "        self.width = width\n",
    "        self.height = height\n",
    "\n",
    "    def area(self):\n",
    "        return self.width * self.height\n",
    "\n",
    "    def perimeter(self):\n",
    "        return 2 * (self.width + self.height)\n",
    "\n",
    "rect = Rectangle(5, 10)\n",
    "print(\"Area:\", rect.area())\n",
    "print(\"Perimeter:\", rect.perimeter())"
   ]
  },
  {
   "cell_type": "code",
   "execution_count": 32,
   "id": "2a7d4b98-1744-468f-8881-d6e527359b10",
   "metadata": {},
   "outputs": [
    {
     "name": "stdout",
     "output_type": "stream",
     "text": [
      "Make: Toyota, Model: Corolla, Year: 2022\n",
      "Doors: 4\n"
     ]
    }
   ],
   "source": [
    "# 3. Vehicle and Car Class\n",
    "class Vehicle:\n",
    "    def __init__(self, make, model, year):\n",
    "        self.make = make\n",
    "        self.model = model\n",
    "        self.year = year\n",
    "\n",
    "    def display_details(self):\n",
    "        print(f\"Make: {self.make}, Model: {self.model}, Year: {self.year}\")\n",
    "\n",
    "class Car(Vehicle):\n",
    "    def __init__(self, make, model, year, doors):\n",
    "        super().__init__(make, model, year)\n",
    "        self.doors = doors\n",
    "\n",
    "    def display_details(self):\n",
    "        super().display_details()\n",
    "        print(f\"Doors: {self.doors}\")\n",
    "\n",
    "car = Car(\"Toyota\", \"Corolla\", 2022, 4)\n",
    "car.display_details()"
   ]
  },
  {
   "cell_type": "code",
   "execution_count": 33,
   "id": "9bec2764-dfc4-42e1-b30b-e5a4293d4b57",
   "metadata": {},
   "outputs": [
    {
     "name": "stdout",
     "output_type": "stream",
     "text": [
      "Deposited: 200\n",
      "Withdrawn: 100\n",
      "Balance: 600\n"
     ]
    }
   ],
   "source": [
    "# 4. BankAccount Class\n",
    "class BankAccount:\n",
    "    def __init__(self, account_number, balance=0):\n",
    "        self.account_number = account_number\n",
    "        self.balance = balance\n",
    "\n",
    "    def deposit(self, amount):\n",
    "        self.balance += amount\n",
    "        print(\"Deposited:\", amount)\n",
    "\n",
    "    def withdraw(self, amount):\n",
    "        if amount <= self.balance:\n",
    "            self.balance -= amount\n",
    "            print(\"Withdrawn:\", amount)\n",
    "        else:\n",
    "            print(\"Insufficient balance\")\n",
    "\n",
    "    def display_balance(self):\n",
    "        print(\"Balance:\", self.balance)\n",
    "\n",
    "account1 = BankAccount(\"12345\", 500)\n",
    "account1.deposit(200)\n",
    "account1.withdraw(100)\n",
    "account1.display_balance()"
   ]
  },
  {
   "cell_type": "code",
   "execution_count": 34,
   "id": "af255d8a-94ab-4c4a-a96a-472e1e30b830",
   "metadata": {},
   "outputs": [
    {
     "name": "stdout",
     "output_type": "stream",
     "text": [
      "Circle Area: 153.93804002589985\n",
      "Triangle Area: 25.0\n"
     ]
    }
   ],
   "source": [
    "# 5. Shape, Circle, and Triangle Classes\n",
    "import math\n",
    "\n",
    "class Shape:\n",
    "    def area(self):\n",
    "        pass\n",
    "\n",
    "class Circle(Shape):\n",
    "    def __init__(self, radius):\n",
    "        self.radius = radius\n",
    "\n",
    "    def area(self):\n",
    "        return math.pi * self.radius ** 2\n",
    "\n",
    "class Triangle(Shape):\n",
    "    def __init__(self, base, height):\n",
    "        self.base = base\n",
    "        self.height = height\n",
    "\n",
    "    def area(self):\n",
    "        return 0.5 * self.base * self.height\n",
    "\n",
    "circle = Circle(7)\n",
    "triangle = Triangle(5, 10)\n",
    "print(\"Circle Area:\", circle.area())\n",
    "print(\"Triangle Area:\", triangle.area())"
   ]
  },
  {
   "cell_type": "code",
   "execution_count": 35,
   "id": "fce5c9d4-7db1-4d1f-b57d-62861776ca63",
   "metadata": {},
   "outputs": [
    {
     "name": "stdout",
     "output_type": "stream",
     "text": [
      "Manager 1 Annual Salary: 65000\n",
      "Manager 2 Annual Salary: 77000\n"
     ]
    }
   ],
   "source": [
    "# 6. Employee and Manager Class\n",
    "class Employee:\n",
    "    def __init__(self, name, salary):\n",
    "        self.name = name\n",
    "        self.salary = salary\n",
    "\n",
    "    def annual_salary(self):\n",
    "        return self.salary * 12\n",
    "\n",
    "class Manager(Employee):\n",
    "    def __init__(self, name, salary, department, bonus=5000):\n",
    "        super().__init__(name, salary)\n",
    "        self.department = department\n",
    "        self.bonus = bonus\n",
    "\n",
    "    def annual_salary(self):\n",
    "        return super().annual_salary() + self.bonus\n",
    "\n",
    "manager1 = Manager(\"Ayan\", 5000, \"IT\")\n",
    "manager2 = Manager(\"Arfeen\", 6000, \"HR\")\n",
    "\n",
    "print(\"Manager 1 Annual Salary:\", manager1.annual_salary())\n",
    "print(\"Manager 2 Annual Salary:\", manager2.annual_salary())"
   ]
  },
  {
   "cell_type": "code",
   "execution_count": 36,
   "id": "5a14e046-2533-4864-9d80-eb20c087063a",
   "metadata": {},
   "outputs": [
    {
     "name": "stdout",
     "output_type": "stream",
     "text": [
      "Title: Python Basics, Author: Ayan, Year: 2025\n",
      "Price: $20\n"
     ]
    }
   ],
   "source": [
    "# 7. Book and Ebook Class\n",
    "class Book:\n",
    "    def __init__(self, title, author, year):\n",
    "        self.title = title\n",
    "        self.author = author\n",
    "        self.year = year\n",
    "\n",
    "    def display_details(self):\n",
    "        print(f\"Title: {self.title}, Author: {self.author}, Year: {self.year}\")\n",
    "\n",
    "class Ebook(Book):\n",
    "    def __init__(self, title, author, year, price):\n",
    "        super().__init__(title, author, year)\n",
    "        self.price = price\n",
    "\n",
    "    def display_details(self):\n",
    "        super().display_details()\n",
    "        print(f\"Price: ${self.price}\")\n",
    "\n",
    "ebook = Ebook(\"Python Basics\", \"Ayan\", 2025, 20)\n",
    "ebook.display_details()"
   ]
  },
  {
   "cell_type": "code",
   "execution_count": 37,
   "id": "12850276-502b-43b1-ba01-346494ca58de",
   "metadata": {},
   "outputs": [
    {
     "name": "stdout",
     "output_type": "stream",
     "text": [
      "Dog says Woof\n",
      "Color: Brown\n"
     ]
    }
   ],
   "source": [
    "# 8. Animal and Dog Class\n",
    "class Animal:\n",
    "    def __init__(self, species, sound):\n",
    "        self.species = species\n",
    "        self.sound = sound\n",
    "\n",
    "    def make_sound(self):\n",
    "        print(f\"{self.species} says {self.sound}\")\n",
    "\n",
    "class Dog(Animal):\n",
    "    def __init__(self, species, sound, color):\n",
    "        super().__init__(species, sound)\n",
    "        self.color = color\n",
    "\n",
    "    def make_sound(self):\n",
    "        super().make_sound()\n",
    "        print(f\"Color: {self.color}\")\n",
    "\n",
    "dog = Dog(\"Dog\", \"Woof\", \"Brown\")\n",
    "dog.make_sound()"
   ]
  },
  {
   "cell_type": "code",
   "execution_count": 38,
   "id": "6151f0d4-578b-49fe-9845-6f5268669c0d",
   "metadata": {},
   "outputs": [
    {
     "name": "stdout",
     "output_type": "stream",
     "text": [
      "Branches: ['Karachi', 'Lahore']\n",
      "Branches: ['Lahore']\n"
     ]
    }
   ],
   "source": [
    "# 9. Bank Class\n",
    "class Bank:\n",
    "    def __init__(self, name):\n",
    "        self.name = name\n",
    "        self.branches = []\n",
    "\n",
    "    def add_branch(self, branch_name):\n",
    "        self.branches.append(branch_name)\n",
    "\n",
    "    def remove_branch(self, branch_name):\n",
    "        self.branches.remove(branch_name)\n",
    "\n",
    "    def display_branches(self):\n",
    "        print(\"Branches:\", self.branches)\n",
    "\n",
    "bank = Bank(\"MyBank\")\n",
    "bank.add_branch(\"Karachi\")\n",
    "bank.add_branch(\"Lahore\")\n",
    "bank.display_branches()\n",
    "bank.remove_branch(\"Karachi\")\n",
    "bank.display_branches()"
   ]
  },
  {
   "cell_type": "code",
   "execution_count": 39,
   "id": "f767fdef-8c67-4629-915a-440ffdc35a4e",
   "metadata": {},
   "outputs": [
    {
     "name": "stdout",
     "output_type": "stream",
     "text": [
      "Total Price: 115\n"
     ]
    }
   ],
   "source": [
    "# 10. Product and PersonalCareProduct Class\n",
    "class Product:\n",
    "    def __init__(self, product_id, name, price):\n",
    "        self.product_id = product_id\n",
    "        self.name = name\n",
    "        self.price = price\n",
    "\n",
    "    def total_price(self, quantity):\n",
    "        return self.price * quantity\n",
    "\n",
    "class PersonalCareProduct(Product):\n",
    "    def __init__(self, product_id, name, price, warranty):\n",
    "        super().__init__(product_id, name, price)\n",
    "        self.warranty = warranty\n",
    "\n",
    "    def total_price(self, quantity):\n",
    "        return super().total_price(quantity) + 100\n",
    "\n",
    "pcp = PersonalCareProduct(\"001\", \"Shampoo\", 5, \"1 year\")\n",
    "print(\"Total Price:\", pcp.total_price(3))"
   ]
  },
  {
   "cell_type": "code",
   "execution_count": 40,
   "id": "7f5f11d0-8a21-4308-b7bc-34579254ed88",
   "metadata": {},
   "outputs": [
    {
     "name": "stdout",
     "output_type": "stream",
     "text": [
      "Deposited $1500 into Ayan Arfeen's account.\n",
      "Withdrawn $2000 from Ayan Arfeen's account.\n",
      "Transferred $1000 to Aban Rao.\n",
      "--> Ayan Arfeen's Balance: $3500\n",
      "--> Aban Rao's Balance: $4000\n"
     ]
    }
   ],
   "source": [
    "# 11: Bank Account Class\n",
    "\n",
    "class BankAccount:\n",
    "    def __init__(self, account_number, holder_name, balance=0):\n",
    "        self.account_number = account_number\n",
    "        self.holder_name = holder_name\n",
    "        self.balance = balance\n",
    "\n",
    "    def deposit(self, amount):\n",
    "        if amount > 0:\n",
    "            self.balance += amount\n",
    "            print(f\"Deposited ${amount} into {self.holder_name}'s account.\")\n",
    "        else:\n",
    "            print(\"Deposit amount must be positive.\")\n",
    "\n",
    "    def withdraw(self, amount):\n",
    "        if 0 < amount <= self.balance:\n",
    "            self.balance -= amount\n",
    "            print(f\"Withdrawn ${amount} from {self.holder_name}'s account.\")\n",
    "        else:\n",
    "            print(\"Invalid withdrawal amount or insufficient balance.\")\n",
    "\n",
    "    def transfer(self, amount, target_account):\n",
    "        if 0 < amount <= self.balance:\n",
    "            self.balance -= amount\n",
    "            target_account.balance += amount\n",
    "            print(f\"Transferred ${amount} to {target_account.holder_name}.\")\n",
    "        else:\n",
    "            print(\"Transfer failed: Insufficient balance or invalid amount.\")\n",
    "\n",
    "    def display_balance(self):\n",
    "        print(f\"--> {self.holder_name}'s Balance: ${self.balance}\")\n",
    "\n",
    "# Create BankAccount instances\n",
    "acc1 = BankAccount(\"123456\", \"Ayan Arfeen\", 5000)\n",
    "acc2 = BankAccount(\"789012\", \"Aban Rao\", 3000)\n",
    "\n",
    "# Perform operations\n",
    "acc1.deposit(1500)\n",
    "acc1.withdraw(2000)\n",
    "acc1.transfer(1000, acc2)\n",
    "\n",
    "acc1.display_balance()\n",
    "acc2.display_balance()"
   ]
  },
  {
   "cell_type": "code",
   "execution_count": 41,
   "id": "64f2ed9e-c5a6-416e-aa0e-460b779fa877",
   "metadata": {},
   "outputs": [
    {
     "name": "stdout",
     "output_type": "stream",
     "text": [
      "Added department: Computer Science\n",
      "Added department: Electrical Engineering\n",
      "\n",
      "Departments in Karachi University:\n",
      "- Computer Science\n",
      "- Electrical Engineering\n",
      "\n",
      "--> Removed department: Electrical Engineering\n",
      "\n",
      "Departments in Karachi University:\n",
      "- Computer Science\n"
     ]
    }
   ],
   "source": [
    "# 12: University Class\n",
    "\n",
    "class University:\n",
    "    def __init__(self, name):\n",
    "        self.name = name\n",
    "        self.departments = []\n",
    "\n",
    "    def add_department(self, department_name):\n",
    "        if department_name not in self.departments:\n",
    "            self.departments.append(department_name)\n",
    "            print(f\"Added department: {department_name}\")\n",
    "        else:\n",
    "            print(f\"Department {department_name} already exists.\")\n",
    "\n",
    "    def remove_department(self, department_name):\n",
    "        if department_name in self.departments:\n",
    "            self.departments.remove(department_name)\n",
    "            print(f\"\\n--> Removed department: {department_name}\")\n",
    "        else:\n",
    "            print(f\"Department {department_name} not found.\")\n",
    "\n",
    "    def display_departments(self):\n",
    "        print(f\"\\nDepartments in {self.name}:\")\n",
    "        for dept in self.departments:\n",
    "            print(f\"- {dept}\")\n",
    "\n",
    "# Create University instance\n",
    "uni = University(\"Karachi University\")\n",
    "\n",
    "# Manage departments\n",
    "uni.add_department(\"Computer Science\")\n",
    "uni.add_department(\"Electrical Engineering\")\n",
    "uni.display_departments()\n",
    "\n",
    "uni.remove_department(\"Electrical Engineering\")\n",
    "uni.display_departments()"
   ]
  },
  {
   "cell_type": "code",
   "execution_count": null,
   "id": "3985bc4d-015c-4896-8350-956ec02829ca",
   "metadata": {},
   "outputs": [],
   "source": []
  },
  {
   "cell_type": "code",
   "execution_count": null,
   "id": "aa7d5c37-5618-469e-9cf1-3d8c6e4c616f",
   "metadata": {},
   "outputs": [],
   "source": []
  },
  {
   "cell_type": "code",
   "execution_count": null,
   "id": "01debfcd-793c-471f-9fc6-eed5cd2e2872",
   "metadata": {},
   "outputs": [],
   "source": []
  },
  {
   "cell_type": "code",
   "execution_count": null,
   "id": "a44b92e3-6977-4b31-9b1e-aaacaa2aa39e",
   "metadata": {},
   "outputs": [],
   "source": []
  }
 ],
 "metadata": {
  "kernelspec": {
   "display_name": "Python 3 (ipykernel)",
   "language": "python",
   "name": "python3"
  },
  "language_info": {
   "codemirror_mode": {
    "name": "ipython",
    "version": 3
   },
   "file_extension": ".py",
   "mimetype": "text/x-python",
   "name": "python",
   "nbconvert_exporter": "python",
   "pygments_lexer": "ipython3",
   "version": "3.12.7"
  }
 },
 "nbformat": 4,
 "nbformat_minor": 5
}
